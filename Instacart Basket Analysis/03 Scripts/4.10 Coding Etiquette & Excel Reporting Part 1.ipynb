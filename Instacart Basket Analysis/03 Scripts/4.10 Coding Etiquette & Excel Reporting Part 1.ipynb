{
 "cells": [
  {
   "cell_type": "markdown",
   "id": "312cff0b-c505-47dd-8bcb-0ee78ce18202",
   "metadata": {},
   "source": [
    "# Task 4.10 Part 1"
   ]
  },
  {
   "cell_type": "markdown",
   "id": "ca1662a2",
   "metadata": {},
   "source": [
    "### Step 1"
   ]
  },
  {
   "cell_type": "markdown",
   "id": "6b7a7ab9",
   "metadata": {},
   "source": [
    "Import the data set you exported in Exercise 4.9 into a new Jupyter notebook. This should be the merged version of your data that contains the new customers column."
   ]
  },
  {
   "cell_type": "code",
   "execution_count": 2,
   "id": "03174913-9e72-40e7-89ce-6d0b171b4769",
   "metadata": {},
   "outputs": [],
   "source": [
    "# Import libraries\n",
    "import pandas as pd\n",
    "import numpy as np\n",
    "import os\n",
    "import matplotlib.pyplot as plt\n",
    "import seaborn as sns\n",
    "import scipy\n",
    "\n",
    "# Suppress the warning\n",
    "pd.options.mode.chained_assignment = None"
   ]
  },
  {
   "cell_type": "code",
   "execution_count": 3,
   "id": "1176f4dc-d0d9-455b-94a8-2a09ab819282",
   "metadata": {},
   "outputs": [],
   "source": [
    "# Turn your project folder path into a string\n",
    "path = r'/Users/dianafayarbas/Desktop/10.24.2023 Instacart Basket Analysis'"
   ]
  },
  {
   "cell_type": "code",
   "execution_count": 4,
   "id": "c2654ea9",
   "metadata": {},
   "outputs": [
    {
     "data": {
      "text/plain": [
       "'/Users/dianafayarbas/Desktop/10.24.2023 Instacart Basket Analysis'"
      ]
     },
     "execution_count": 4,
     "metadata": {},
     "output_type": "execute_result"
    }
   ],
   "source": [
    "path"
   ]
  },
  {
   "cell_type": "code",
   "execution_count": 5,
   "id": "8ea5a143",
   "metadata": {},
   "outputs": [],
   "source": [
    "ords_prods_custs = pd.read_pickle(os.path.join(path, '02 Data', 'Prepared Data', 'ords_prods_custs4.9.pkl'))"
   ]
  },
  {
   "cell_type": "markdown",
   "id": "4bcf438d",
   "metadata": {},
   "source": [
    "### Step 2"
   ]
  },
  {
   "cell_type": "markdown",
   "id": "8347338d",
   "metadata": {},
   "source": [
    "Consider any security implications that might exist for this new data. You’ll need to address any PII data in the data before continuing your analysis."
   ]
  },
  {
   "cell_type": "markdown",
   "id": "121b0059",
   "metadata": {},
   "source": [
    "**To address PII data, I am dropping the columns first_name and last_name.**"
   ]
  },
  {
   "cell_type": "code",
   "execution_count": 6,
   "id": "cabb44f5",
   "metadata": {},
   "outputs": [],
   "source": [
    "ords_prods_custs = ords_prods_custs.drop(['first_name', 'last_name'], axis=1)"
   ]
  },
  {
   "cell_type": "markdown",
   "id": "b6f608ff",
   "metadata": {},
   "source": [
    "### Step 3"
   ]
  },
  {
   "cell_type": "markdown",
   "id": "c4515fe9",
   "metadata": {},
   "source": [
    "The Instacart officers are interested in comparing customer behavior in different geographic areas. Create a regional segmentation of the data. You’ll need to create a “Region” column based on the “State” column from your customers data set."
   ]
  },
  {
   "cell_type": "markdown",
   "id": "82717efc",
   "metadata": {},
   "source": [
    "Use the region information in this Wikipedia article to create your column (you only need to create regions, not divisions)."
   ]
  },
  {
   "cell_type": "markdown",
   "id": "ab5dc3ca",
   "metadata": {},
   "source": [
    "Determine whether there’s a difference in spending habits between the different U.S. regions. (Hint: You can do this by crossing the variable you just created with the spending flag.)"
   ]
  },
  {
   "cell_type": "code",
   "execution_count": 7,
   "id": "52c9551d",
   "metadata": {},
   "outputs": [],
   "source": [
    "# Create a new list that classifies states into regions\n",
    "region = []\n",
    "\n",
    "for value in ords_prods_custs[\"state\"]:\n",
    "  if value == 'Maine' or value == 'New Hampshire' or value == 'Vermont' or value == 'Massachusetts' or value == 'Rhode Island' or value == 'Connecticut' or value == 'New York' or value == 'Pennsylvania' or value == 'New Jersey':\n",
    "    region.append(\"Northeast\")\n",
    "  elif value == 'Wisconsin' or value == 'Michigan' or value == 'Illinois' or value == 'Indiana' or value == 'Ohio' or value == 'North Dakota' or value == 'South Dakota' or value == 'Nebraska' or value == 'Kansas' or value == 'Minnesota' or value == 'Iowa' or value == 'Missouri':\n",
    "    region.append(\"Midwest\")\n",
    "  elif value == 'Delaware' or value == 'Maryland' or value == 'District of Columbia' or value == 'Virginia' or value == 'West Virginia' or value == 'North Carolina' or value == 'South Carolina' or value == 'Georgia' or value == 'Florida' or value == 'Kentucky' or value == 'Tennessee' or value == 'Mississippi' or value == 'Alabama' or value == 'Oklahoma' or value == 'Texas' or value == 'Arkansas' or value == 'Lousiana':\n",
    "    region.append(\"South\")\n",
    "  else:\n",
    "    region.append(\"West\")"
   ]
  },
  {
   "cell_type": "code",
   "execution_count": 8,
   "id": "daef2970",
   "metadata": {},
   "outputs": [],
   "source": [
    "# Add a new column named 'region' to ords_prods_custs and populate it with region\n",
    "ords_prods_custs['region'] = region"
   ]
  },
  {
   "cell_type": "code",
   "execution_count": 9,
   "id": "579f3bf3",
   "metadata": {},
   "outputs": [
    {
     "data": {
      "text/plain": [
       "South        10154403\n",
       "West          8930395\n",
       "Midwest       7597325\n",
       "Northeast     5722736\n",
       "Name: region, dtype: int64"
      ]
     },
     "execution_count": 9,
     "metadata": {},
     "output_type": "execute_result"
    }
   ],
   "source": [
    "# Count the frequency of unique values in 'region'\n",
    "ords_prods_custs['region'].value_counts(dropna=False)"
   ]
  },
  {
   "cell_type": "code",
   "execution_count": 10,
   "id": "b35a1b22",
   "metadata": {},
   "outputs": [
    {
     "data": {
      "text/plain": [
       "High spender    20332281\n",
       "Low spender     12072578\n",
       "Name: spending_flag, dtype: int64"
      ]
     },
     "execution_count": 10,
     "metadata": {},
     "output_type": "execute_result"
    }
   ],
   "source": [
    "# Count the frequency of unique values in 'spending_flag'\n",
    "ords_prods_custs['spending_flag'].value_counts(dropna=False)"
   ]
  },
  {
   "cell_type": "code",
   "execution_count": 11,
   "id": "db06284e",
   "metadata": {},
   "outputs": [
    {
     "data": {
      "text/html": [
       "<div>\n",
       "<style scoped>\n",
       "    .dataframe tbody tr th:only-of-type {\n",
       "        vertical-align: middle;\n",
       "    }\n",
       "\n",
       "    .dataframe tbody tr th {\n",
       "        vertical-align: top;\n",
       "    }\n",
       "\n",
       "    .dataframe thead th {\n",
       "        text-align: right;\n",
       "    }\n",
       "</style>\n",
       "<table border=\"1\" class=\"dataframe\">\n",
       "  <thead>\n",
       "    <tr style=\"text-align: right;\">\n",
       "      <th>spending_flag</th>\n",
       "      <th>High spender</th>\n",
       "      <th>Low spender</th>\n",
       "    </tr>\n",
       "    <tr>\n",
       "      <th>region</th>\n",
       "      <th></th>\n",
       "      <th></th>\n",
       "    </tr>\n",
       "  </thead>\n",
       "  <tbody>\n",
       "    <tr>\n",
       "      <th>Midwest</th>\n",
       "      <td>4731873</td>\n",
       "      <td>2865452</td>\n",
       "    </tr>\n",
       "    <tr>\n",
       "      <th>Northeast</th>\n",
       "      <td>3609752</td>\n",
       "      <td>2112984</td>\n",
       "    </tr>\n",
       "    <tr>\n",
       "      <th>South</th>\n",
       "      <td>6373710</td>\n",
       "      <td>3780693</td>\n",
       "    </tr>\n",
       "    <tr>\n",
       "      <th>West</th>\n",
       "      <td>5616946</td>\n",
       "      <td>3313449</td>\n",
       "    </tr>\n",
       "  </tbody>\n",
       "</table>\n",
       "</div>"
      ],
      "text/plain": [
       "spending_flag  High spender  Low spender\n",
       "region                                  \n",
       "Midwest             4731873      2865452\n",
       "Northeast           3609752      2112984\n",
       "South               6373710      3780693\n",
       "West                5616946      3313449"
      ]
     },
     "execution_count": 11,
     "metadata": {},
     "output_type": "execute_result"
    }
   ],
   "source": [
    "# Create a crosstab between “region” and “spending_flag”\n",
    "region_spending = pd.crosstab(ords_prods_custs['region'], ords_prods_custs['spending_flag'], dropna = False)\n",
    "region_spending"
   ]
  },
  {
   "cell_type": "code",
   "execution_count": 12,
   "id": "45a63e3b",
   "metadata": {},
   "outputs": [
    {
     "data": {
      "image/png": "[encoded data removed]",
      "text/plain": [
       "<Figure size 640x480 with 1 Axes>"
      ]
     },
     "metadata": {},
     "output_type": "display_data"
    }
   ],
   "source": [
    "# Create a bar plot that displays spending habits by region\n",
    "bar_region_spending=region_spending.plot.bar(color=['blue','green'])\n",
    "plt.xlabel(\"Region\")\n",
    "plt.ylabel(\"Frequency\")\n",
    "plt.title(\"Spending Habits by Region\", fontsize=14)\n",
    "plt.legend(loc='center left', bbox_to_anchor=(1.0, 0.5))\n",
    "plt.tight_layout()"
   ]
  },
  {
   "cell_type": "code",
   "execution_count": 13,
   "id": "2da0dcc7",
   "metadata": {},
   "outputs": [],
   "source": [
    "# Save bar plot as an image file\n",
    "bar_region_spending.figure.savefig(os.path.join(path, '04 Analysis','Visualizations', 'bar_region_spending.png'))"
   ]
  },
  {
   "cell_type": "markdown",
   "id": "acc6f361",
   "metadata": {},
   "source": [
    "**The project brief has the question: Are there differences in ordering habits based on a customer's region? To answer this, let's summarize the relationship between region and loyalty_flag.**"
   ]
  },
  {
   "cell_type": "code",
   "execution_count": 62,
   "id": "5d7e65ac",
   "metadata": {},
   "outputs": [
    {
     "data": {
      "text/html": [
       "<div>\n",
       "<style scoped>\n",
       "    .dataframe tbody tr th:only-of-type {\n",
       "        vertical-align: middle;\n",
       "    }\n",
       "\n",
       "    .dataframe tbody tr th {\n",
       "        vertical-align: top;\n",
       "    }\n",
       "\n",
       "    .dataframe thead th {\n",
       "        text-align: right;\n",
       "    }\n",
       "</style>\n",
       "<table border=\"1\" class=\"dataframe\">\n",
       "  <thead>\n",
       "    <tr style=\"text-align: right;\">\n",
       "      <th>loyalty_flag</th>\n",
       "      <th>Loyal customer</th>\n",
       "      <th>New customer</th>\n",
       "      <th>Regular customer</th>\n",
       "    </tr>\n",
       "    <tr>\n",
       "      <th>region</th>\n",
       "      <th></th>\n",
       "      <th></th>\n",
       "      <th></th>\n",
       "    </tr>\n",
       "  </thead>\n",
       "  <tbody>\n",
       "    <tr>\n",
       "      <th>Midwest</th>\n",
       "      <td>2373774</td>\n",
       "      <td>1472573</td>\n",
       "      <td>3750978</td>\n",
       "    </tr>\n",
       "    <tr>\n",
       "      <th>Northeast</th>\n",
       "      <td>1841785</td>\n",
       "      <td>1100207</td>\n",
       "      <td>2780744</td>\n",
       "    </tr>\n",
       "    <tr>\n",
       "      <th>South</th>\n",
       "      <td>3209720</td>\n",
       "      <td>1955721</td>\n",
       "      <td>4988962</td>\n",
       "    </tr>\n",
       "    <tr>\n",
       "      <th>West</th>\n",
       "      <td>2858814</td>\n",
       "      <td>1715489</td>\n",
       "      <td>4356092</td>\n",
       "    </tr>\n",
       "  </tbody>\n",
       "</table>\n",
       "</div>"
      ],
      "text/plain": [
       "loyalty_flag  Loyal customer  New customer  Regular customer\n",
       "region                                                      \n",
       "Midwest              2373774       1472573           3750978\n",
       "Northeast            1841785       1100207           2780744\n",
       "South                3209720       1955721           4988962\n",
       "West                 2858814       1715489           4356092"
      ]
     },
     "execution_count": 62,
     "metadata": {},
     "output_type": "execute_result"
    }
   ],
   "source": [
    "# Create a crosstab between “region” and “loyalty_flag”\n",
    "region_loyalty = pd.crosstab(ords_prods_custs['region'], ords_prods_custs['loyalty_flag'], dropna = False)\n",
    "region_loyalty"
   ]
  },
  {
   "cell_type": "code",
   "execution_count": 65,
   "id": "7cd99bb8",
   "metadata": {},
   "outputs": [
    {
     "data": {
      "image/png": "[encoded data removed]",
      "text/plain": [
       "<Figure size 640x480 with 1 Axes>"
      ]
     },
     "metadata": {},
     "output_type": "display_data"
    }
   ],
   "source": [
    "# Create a bar plot that displays loyalty by region\n",
    "bar_region_loyalty=region_loyalty.plot.bar()\n",
    "plt.xlabel(\"Region\")\n",
    "plt.ylabel(\"Frequency\")\n",
    "plt.title(\"Loyalty by Region\", fontsize=14)\n",
    "plt.legend(loc='center left', bbox_to_anchor=(1.0, 0.5))\n",
    "plt.tight_layout()\n",
    "\n",
    "# Save bar plot as an image file\n",
    "bar_region_loyalty.figure.savefig(os.path.join(path, '04 Analysis','Visualizations', 'bar_region_loyalty.png'))"
   ]
  },
  {
   "cell_type": "markdown",
   "id": "e5a80a6e",
   "metadata": {},
   "source": [
    "### Step 4"
   ]
  },
  {
   "cell_type": "markdown",
   "id": "508df642",
   "metadata": {},
   "source": [
    "The Instacart CFO isn’t interested in customers who don’t generate much revenue for the app. Create an exclusion flag for low-activity customers (customers with less than 5 orders) and exclude them from the data. Make sure you export this sample."
   ]
  },
  {
   "cell_type": "code",
   "execution_count": 14,
   "id": "c3d53785",
   "metadata": {},
   "outputs": [],
   "source": [
    "# Create an exclusion flag based on 'max_order'\n",
    "ords_prods_custs.loc[ords_prods_custs['max_order']>= 5, 'exclusion_flag'] = 'High-activity customer'\n",
    "ords_prods_custs.loc[ords_prods_custs['max_order']< 5, 'exclusion_flag'] = 'Low-activity customer'"
   ]
  },
  {
   "cell_type": "code",
   "execution_count": 15,
   "id": "1c2cde4b",
   "metadata": {},
   "outputs": [
    {
     "data": {
      "text/plain": [
       "High-activity customer    30964564\n",
       "Low-activity customer      1440295\n",
       "Name: exclusion_flag, dtype: int64"
      ]
     },
     "execution_count": 15,
     "metadata": {},
     "output_type": "execute_result"
    }
   ],
   "source": [
    "# Count the frequency of unique values in 'exclusion_flag'\n",
    "ords_prods_custs['exclusion_flag'].value_counts (dropna = False)"
   ]
  },
  {
   "cell_type": "code",
   "execution_count": 16,
   "id": "1bc793fb",
   "metadata": {},
   "outputs": [],
   "source": [
    "# Exclude low-activity customers from data\n",
    "# Create a new df of only high-activity customers\n",
    "high_activity_cust = ords_prods_custs[ords_prods_custs['exclusion_flag'] == 'High-activity customer']"
   ]
  },
  {
   "cell_type": "code",
   "execution_count": 17,
   "id": "d749f84d",
   "metadata": {},
   "outputs": [
    {
     "data": {
      "text/plain": [
       "(30964564, 32)"
      ]
     },
     "execution_count": 17,
     "metadata": {},
     "output_type": "execute_result"
    }
   ],
   "source": [
    "high_activity_cust.shape"
   ]
  },
  {
   "cell_type": "code",
   "execution_count": 18,
   "id": "b3f1d2a4",
   "metadata": {},
   "outputs": [],
   "source": [
    "# Export sample of high-activity customers\n",
    "high_activity_cust.to_pickle(os.path.join(path, '02 Data', 'Prepared Data', 'high_activity_customers.pkl'))"
   ]
  },
  {
   "cell_type": "markdown",
   "id": "28656b44",
   "metadata": {},
   "source": [
    "**Moving forward, I will use high_activity_cust because the Instacart CFO wants to focus on customers who generate more revenue.**"
   ]
  },
  {
   "cell_type": "markdown",
   "id": "d7093099",
   "metadata": {},
   "source": [
    "### Step 5"
   ]
  },
  {
   "cell_type": "markdown",
   "id": "83c10f11",
   "metadata": {},
   "source": [
    "The marketing and business strategy units at Instacart want to create more-relevant marketing strategies for different products and are, thus, curious about customer profiling in their database. Create a profiling variable based on age, income, certain goods in the “department_id” column, and number of dependents. You might also use the “orders_day_of_the_week” and “order_hour_of_day” columns if you can think of a way they would impact customer profiles. (Hint: As an example, try thinking of what characteristics would lead you to the profile “Single adult” or “Young parent.”)"
   ]
  },
  {
   "cell_type": "markdown",
   "id": "b1d99f72",
   "metadata": {},
   "source": [
    "**I will create a profiling variable that categorizes customers as single adults, young parents, or senior shoppers based on age, income, department, number of dependents.**"
   ]
  },
  {
   "cell_type": "markdown",
   "id": "0798cdd2",
   "metadata": {},
   "source": [
    "### Age groups"
   ]
  },
  {
   "cell_type": "code",
   "execution_count": 19,
   "id": "0c453340",
   "metadata": {},
   "outputs": [
    {
     "data": {
      "text/plain": [
       "count    3.096456e+07\n",
       "mean     4.946803e+01\n",
       "std      1.848528e+01\n",
       "min      1.800000e+01\n",
       "25%      3.300000e+01\n",
       "50%      4.900000e+01\n",
       "75%      6.500000e+01\n",
       "max      8.100000e+01\n",
       "Name: age, dtype: float64"
      ]
     },
     "execution_count": 19,
     "metadata": {},
     "output_type": "execute_result"
    }
   ],
   "source": [
    "# Summary statistics for age\n",
    "high_activity_cust['age'].describe()"
   ]
  },
  {
   "cell_type": "markdown",
   "id": "1b06b488",
   "metadata": {},
   "source": [
    "**The minimum age is 18, the maximum age is 81, and the mean age is 49.**"
   ]
  },
  {
   "cell_type": "code",
   "execution_count": 20,
   "id": "daf4f896",
   "metadata": {},
   "outputs": [],
   "source": [
    "# Create age_group column with the following categories:\n",
    "# 18-35 Young Adult, 36-64 Adult, and 65-81 Senior\n",
    "\n",
    "high_activity_cust.loc[(high_activity_cust['age'] >= 18) & (high_activity_cust['age'] < 36), 'age_group'] = 'Young Adult'"
   ]
  },
  {
   "cell_type": "code",
   "execution_count": 21,
   "id": "1e93a71e",
   "metadata": {},
   "outputs": [],
   "source": [
    "high_activity_cust.loc[(high_activity_cust['age'] >= 36) & (high_activity_cust['age'] < 65), 'age_group'] = 'Adult'"
   ]
  },
  {
   "cell_type": "code",
   "execution_count": 22,
   "id": "acdb7312",
   "metadata": {},
   "outputs": [],
   "source": [
    "high_activity_cust.loc[(high_activity_cust['age'] >= 65) & (high_activity_cust['age'] < 82), 'age_group'] = 'Senior'"
   ]
  },
  {
   "cell_type": "code",
   "execution_count": 23,
   "id": "a6a11416",
   "metadata": {},
   "outputs": [
    {
     "data": {
      "text/plain": [
       "Adult          14030215\n",
       "Young Adult     8738805\n",
       "Senior          8195544\n",
       "Name: age_group, dtype: int64"
      ]
     },
     "execution_count": 23,
     "metadata": {},
     "output_type": "execute_result"
    }
   ],
   "source": [
    "# Print the frequency of age_group\n",
    "high_activity_cust['age_group'].value_counts(dropna = False)"
   ]
  },
  {
   "cell_type": "code",
   "execution_count": 24,
   "id": "4d3c4772",
   "metadata": {},
   "outputs": [
    {
     "data": {
      "text/plain": [
       "Text(0, 0.5, 'Count')"
      ]
     },
     "execution_count": 24,
     "metadata": {},
     "output_type": "execute_result"
    },
    {
     "data": {
      "image/png": "[encoded data removed]",
      "text/plain": [
       "<Figure size 640x480 with 1 Axes>"
      ]
     },
     "metadata": {},
     "output_type": "display_data"
    }
   ],
   "source": [
    "# Create a bar plot that visually displays the distribution of the 'age_group' values\n",
    "age_bar = high_activity_cust['age_group'].value_counts().plot.bar()\n",
    "\n",
    "# Add a chart title\n",
    "plt.title('Age Group Distribution')\n",
    "\n",
    "# Add an x-axis label\n",
    "plt.xlabel('Age Groups')\n",
    "\n",
    "# Add a y-axis label\n",
    "plt.ylabel('Count')"
   ]
  },
  {
   "cell_type": "code",
   "execution_count": 25,
   "id": "733e75fa",
   "metadata": {},
   "outputs": [],
   "source": [
    "# Save bar plot as an image file\n",
    "age_bar.figure.savefig(os.path.join(path, '04 Analysis','Visualizations', 'age_bar.png'))"
   ]
  },
  {
   "cell_type": "markdown",
   "id": "5f217c60",
   "metadata": {},
   "source": [
    "### Income groups"
   ]
  },
  {
   "cell_type": "code",
   "execution_count": 26,
   "id": "25bcf427",
   "metadata": {},
   "outputs": [
    {
     "data": {
      "text/plain": [
       "count    3.096456e+07\n",
       "mean     9.967587e+04\n",
       "std      4.314187e+04\n",
       "min      2.590300e+04\n",
       "25%      6.729200e+04\n",
       "50%      9.676500e+04\n",
       "75%      1.281020e+05\n",
       "max      5.939010e+05\n",
       "Name: income, dtype: float64"
      ]
     },
     "execution_count": 26,
     "metadata": {},
     "output_type": "execute_result"
    }
   ],
   "source": [
    "# Summary statistics for income\n",
    "high_activity_cust['income'].describe()"
   ]
  },
  {
   "cell_type": "markdown",
   "id": "6e01cfa8",
   "metadata": {},
   "source": [
    "**The minimum income is 25,903. The maximum income is 593,901. The mean income is 99,437.73.**"
   ]
  },
  {
   "cell_type": "code",
   "execution_count": 27,
   "id": "8bddbb38",
   "metadata": {},
   "outputs": [],
   "source": [
    "# Create income_group column with the following categories:\n",
    "# Low-income < $50K, middle-income $50K-$150K, and high-income $150K+\n",
    "\n",
    "high_activity_cust.loc[high_activity_cust['income'] < 50000, 'income_group'] = 'Low-income'"
   ]
  },
  {
   "cell_type": "code",
   "execution_count": 28,
   "id": "229479aa",
   "metadata": {},
   "outputs": [],
   "source": [
    "high_activity_cust.loc[(high_activity_cust['income'] >= 50000) & (high_activity_cust['income'] < 150000), 'income_group'] = 'Middle-income'"
   ]
  },
  {
   "cell_type": "code",
   "execution_count": 29,
   "id": "2250fa22",
   "metadata": {},
   "outputs": [],
   "source": [
    "high_activity_cust.loc[high_activity_cust['income'] >= 150000, 'income_group'] = 'High-income'"
   ]
  },
  {
   "cell_type": "code",
   "execution_count": 30,
   "id": "da1531ab",
   "metadata": {},
   "outputs": [
    {
     "data": {
      "text/plain": [
       "Middle-income    23706735\n",
       "High-income       3895275\n",
       "Low-income        3362554\n",
       "Name: income_group, dtype: int64"
      ]
     },
     "execution_count": 30,
     "metadata": {},
     "output_type": "execute_result"
    }
   ],
   "source": [
    "# Count frequency of unique values in 'income_group'\n",
    "high_activity_cust['income_group'].value_counts(dropna=False)"
   ]
  },
  {
   "cell_type": "code",
   "execution_count": 31,
   "id": "c5dcf432",
   "metadata": {},
   "outputs": [
    {
     "data": {
      "text/plain": [
       "Text(0, 0.5, 'Count')"
      ]
     },
     "execution_count": 31,
     "metadata": {},
     "output_type": "execute_result"
    },
    {
     "data": {
      "image/png": "[encoded data removed]",
      "text/plain": [
       "<Figure size 640x480 with 1 Axes>"
      ]
     },
     "metadata": {},
     "output_type": "display_data"
    }
   ],
   "source": [
    "# Create a bar plot that visually displays the distribution of 'income_group'\n",
    "income_bar = high_activity_cust['income_group'].value_counts().plot.bar()\n",
    "\n",
    "# Add a chart title\n",
    "plt.title('Income Group Distribution')\n",
    "\n",
    "# Add an x-axis label\n",
    "plt.xlabel('Income Groups')\n",
    "\n",
    "# Add a y-axis label\n",
    "plt.ylabel('Count')"
   ]
  },
  {
   "cell_type": "code",
   "execution_count": 32,
   "id": "ea7a1a27",
   "metadata": {},
   "outputs": [],
   "source": [
    "# Save bar plot as an image file\n",
    "income_bar.figure.savefig(os.path.join(path, '04 Analysis','Visualizations', 'income_bar.png'))"
   ]
  },
  {
   "cell_type": "markdown",
   "id": "59883450",
   "metadata": {},
   "source": [
    "### Departments"
   ]
  },
  {
   "cell_type": "code",
   "execution_count": 33,
   "id": "d9f62101",
   "metadata": {},
   "outputs": [],
   "source": [
    "# Import departments\n",
    "departments = pd.read_csv(os.path.join(path,'02 Data', 'Prepared Data', 'departments_wrangled.csv'))"
   ]
  },
  {
   "cell_type": "code",
   "execution_count": 34,
   "id": "642108c9",
   "metadata": {},
   "outputs": [],
   "source": [
    "# Renaming first column to 'department_id'\n",
    "departments.rename(columns = {'Unnamed: 0' : 'department_id'}, inplace = True)"
   ]
  },
  {
   "cell_type": "code",
   "execution_count": 35,
   "id": "8a69e66b",
   "metadata": {},
   "outputs": [],
   "source": [
    "# Merge departments with latest dataset on department_id\n",
    "df = high_activity_cust.merge(departments, on = 'department_id')"
   ]
  },
  {
   "cell_type": "markdown",
   "id": "5ba61a2b",
   "metadata": {},
   "source": [
    "**Moving forward, I will be using df, which is the most updated dataframe merged with departments.**"
   ]
  },
  {
   "cell_type": "code",
   "execution_count": 36,
   "id": "f4be59ed",
   "metadata": {},
   "outputs": [
    {
     "data": {
      "image/png": "[encoded data removed]",
      "text/plain": [
       "<Figure size 640x480 with 1 Axes>"
      ]
     },
     "metadata": {},
     "output_type": "display_data"
    }
   ],
   "source": [
    "# Count the frequency of unique values in 'department'\n",
    "department_counts = df['department'].value_counts(ascending=True)\n",
    "\n",
    "# Create a bar chart\n",
    "dept_bar = department_counts.plot(kind='barh')\n",
    "\n",
    "# Add chart title\n",
    "plt.title('Department Frequency')\n",
    "\n",
    "# Add x-axis label\n",
    "plt.xlabel('Department')\n",
    "\n",
    "# Add y-axis label\n",
    "plt.ylabel('Frequency')\n",
    "\n",
    "# Show the plot\n",
    "plt.show()"
   ]
  },
  {
   "cell_type": "markdown",
   "id": "5deafe5c",
   "metadata": {},
   "source": [
    "**To answer a key question from the project brief, the most popular product is produce.**"
   ]
  },
  {
   "cell_type": "code",
   "execution_count": 37,
   "id": "cbd70a32",
   "metadata": {},
   "outputs": [],
   "source": [
    "# Save horizontal bar plot as an image file\n",
    "dept_bar.figure.savefig(os.path.join(path, '04 Analysis','Visualizations', 'dept_bar.png'))"
   ]
  },
  {
   "cell_type": "markdown",
   "id": "09530227",
   "metadata": {},
   "source": [
    "### Dependents"
   ]
  },
  {
   "cell_type": "code",
   "execution_count": 38,
   "id": "50fe87a2",
   "metadata": {},
   "outputs": [],
   "source": [
    "# Create dependents_group column for has dependents and no dependents\n",
    "df.loc[df['num_dependents'] == 0, 'dependents_group'] = 'No dependents'"
   ]
  },
  {
   "cell_type": "code",
   "execution_count": 39,
   "id": "ffdbe383",
   "metadata": {},
   "outputs": [],
   "source": [
    "df.loc[df['num_dependents'] > 0, 'dependents_group'] = 'Has dependents'"
   ]
  },
  {
   "cell_type": "code",
   "execution_count": 40,
   "id": "1ee1bb37",
   "metadata": {},
   "outputs": [
    {
     "data": {
      "text/plain": [
       "Has dependents    23224883\n",
       "No dependents      7739681\n",
       "Name: dependents_group, dtype: int64"
      ]
     },
     "execution_count": 40,
     "metadata": {},
     "output_type": "execute_result"
    }
   ],
   "source": [
    "# Count frequency of unique values in 'dependents_group'\n",
    "df['dependents_group'].value_counts(dropna=False)"
   ]
  },
  {
   "cell_type": "code",
   "execution_count": 41,
   "id": "b193a991",
   "metadata": {},
   "outputs": [
    {
     "data": {
      "text/plain": [
       "Text(0, 0.5, 'Count')"
      ]
     },
     "execution_count": 41,
     "metadata": {},
     "output_type": "execute_result"
    },
    {
     "data": {
      "image/png": "[encoded data removed]",
      "text/plain": [
       "<Figure size 640x480 with 1 Axes>"
      ]
     },
     "metadata": {},
     "output_type": "display_data"
    }
   ],
   "source": [
    "# Create a bar plot that visually displays the distribution of 'dependents_group'\n",
    "deps_bar = df['dependents_group'].value_counts().plot.bar()\n",
    "\n",
    "# Add a chart title\n",
    "plt.title('Dependents Group Distribution')\n",
    "\n",
    "# Add an x-axis label\n",
    "plt.xlabel('Dependents Groups')\n",
    "\n",
    "# Add a y-axis label\n",
    "plt.ylabel('Count')"
   ]
  },
  {
   "cell_type": "code",
   "execution_count": 42,
   "id": "46d3d081",
   "metadata": {},
   "outputs": [],
   "source": [
    "# Save bar plot as an image file\n",
    "deps_bar.figure.savefig(os.path.join(path, '04 Analysis','Visualizations', 'deps_bar.png'))"
   ]
  },
  {
   "cell_type": "markdown",
   "id": "3f478441",
   "metadata": {},
   "source": [
    "### Profiling variable"
   ]
  },
  {
   "cell_type": "code",
   "execution_count": 43,
   "id": "239a323a",
   "metadata": {},
   "outputs": [],
   "source": [
    "# Create profiling column for single adult, young parent, and senior shopper\n",
    "df.loc[df['marital_status'] == 'single', 'profiling'] = 'Single adult'\n",
    "df.loc[(df['department'] == 'babies') & ((df['age_group'] == 'Adult') | (df['age_group'] == 'Young Adult')), 'profiling'] = 'Young parent'\n",
    "df.loc[df['age_group'] == 'Senior', 'profiling'] = 'Senior shopper'"
   ]
  },
  {
   "cell_type": "code",
   "execution_count": 44,
   "id": "aaf372c4",
   "metadata": {},
   "outputs": [
    {
     "data": {
      "text/plain": [
       "NaN               17439399\n",
       "Senior shopper     8195544\n",
       "Single adult       5025433\n",
       "Young parent        304188\n",
       "Name: profiling, dtype: int64"
      ]
     },
     "execution_count": 44,
     "metadata": {},
     "output_type": "execute_result"
    }
   ],
   "source": [
    "# Count frequency of unique values in 'profiling'\n",
    "df['profiling'].value_counts(dropna=False)"
   ]
  },
  {
   "cell_type": "markdown",
   "id": "765f84a7",
   "metadata": {},
   "source": [
    "### Step 6"
   ]
  },
  {
   "cell_type": "markdown",
   "id": "0012e046",
   "metadata": {},
   "source": [
    "Create an appropriate visualization to show the distribution of profiles."
   ]
  },
  {
   "cell_type": "code",
   "execution_count": 66,
   "id": "6a7f1fce",
   "metadata": {},
   "outputs": [
    {
     "data": {
      "text/plain": [
       "Text(0, 0.5, 'Number of Orders')"
      ]
     },
     "execution_count": 66,
     "metadata": {},
     "output_type": "execute_result"
    },
    {
     "data": {
      "image/png": "[encoded data removed]",
      "text/plain": [
       "<Figure size 640x480 with 1 Axes>"
      ]
     },
     "metadata": {},
     "output_type": "display_data"
    }
   ],
   "source": [
    "# Create a bar plot that visually displays the distribution of the 'profiling' values\n",
    "profiling_bar = df['profiling'].value_counts().plot.bar()\n",
    "\n",
    "# Add a chart title\n",
    "plt.title('Customer Profiling Distribution')\n",
    "\n",
    "# Add an x-axis label\n",
    "plt.xlabel('Profiling Categories')\n",
    "\n",
    "# Add a y-axis label\n",
    "plt.ylabel('Number of Orders')"
   ]
  },
  {
   "cell_type": "code",
   "execution_count": 67,
   "id": "804cf992",
   "metadata": {},
   "outputs": [],
   "source": [
    "# Save bar plot as an image file\n",
    "profiling_bar.figure.savefig(os.path.join(path, '04 Analysis','Visualizations', 'profiling_bar.png'))"
   ]
  },
  {
   "cell_type": "markdown",
   "id": "0fc963ff",
   "metadata": {},
   "source": [
    "### Step 7"
   ]
  },
  {
   "cell_type": "markdown",
   "id": "59338acc",
   "metadata": {},
   "source": [
    "Aggregate the max, mean, and min variables on a customer-profile level for usage frequency and expenditure."
   ]
  },
  {
   "cell_type": "code",
   "execution_count": 47,
   "id": "fe4219c1",
   "metadata": {},
   "outputs": [
    {
     "data": {
      "text/html": [
       "<div>\n",
       "<style scoped>\n",
       "    .dataframe tbody tr th:only-of-type {\n",
       "        vertical-align: middle;\n",
       "    }\n",
       "\n",
       "    .dataframe tbody tr th {\n",
       "        vertical-align: top;\n",
       "    }\n",
       "\n",
       "    .dataframe thead tr th {\n",
       "        text-align: left;\n",
       "    }\n",
       "\n",
       "    .dataframe thead tr:last-of-type th {\n",
       "        text-align: right;\n",
       "    }\n",
       "</style>\n",
       "<table border=\"1\" class=\"dataframe\">\n",
       "  <thead>\n",
       "    <tr>\n",
       "      <th></th>\n",
       "      <th>order_id</th>\n",
       "      <th colspan=\"3\" halign=\"left\">prices</th>\n",
       "    </tr>\n",
       "    <tr>\n",
       "      <th></th>\n",
       "      <th>count</th>\n",
       "      <th>min</th>\n",
       "      <th>mean</th>\n",
       "      <th>max</th>\n",
       "    </tr>\n",
       "    <tr>\n",
       "      <th>profiling</th>\n",
       "      <th></th>\n",
       "      <th></th>\n",
       "      <th></th>\n",
       "      <th></th>\n",
       "    </tr>\n",
       "  </thead>\n",
       "  <tbody>\n",
       "    <tr>\n",
       "      <th>Senior shopper</th>\n",
       "      <td>8195544</td>\n",
       "      <td>1.0</td>\n",
       "      <td>11.757768</td>\n",
       "      <td>99999.0</td>\n",
       "    </tr>\n",
       "    <tr>\n",
       "      <th>Single adult</th>\n",
       "      <td>5025433</td>\n",
       "      <td>1.0</td>\n",
       "      <td>12.464801</td>\n",
       "      <td>99999.0</td>\n",
       "    </tr>\n",
       "    <tr>\n",
       "      <th>Young parent</th>\n",
       "      <td>304188</td>\n",
       "      <td>1.0</td>\n",
       "      <td>7.628701</td>\n",
       "      <td>15.0</td>\n",
       "    </tr>\n",
       "  </tbody>\n",
       "</table>\n",
       "</div>"
      ],
      "text/plain": [
       "               order_id prices                    \n",
       "                  count    min       mean      max\n",
       "profiling                                         \n",
       "Senior shopper  8195544    1.0  11.757768  99999.0\n",
       "Single adult    5025433    1.0  12.464801  99999.0\n",
       "Young parent     304188    1.0   7.628701     15.0"
      ]
     },
     "execution_count": 47,
     "metadata": {},
     "output_type": "execute_result"
    }
   ],
   "source": [
    "# Aggregating max, mean, and min variables on a customer-profile level (profiling) expenditure\n",
    "profiling_agg = df.groupby('profiling').agg({'order_id': 'count','prices': ['min', 'mean', 'max']})\n",
    "profiling_agg"
   ]
  },
  {
   "cell_type": "code",
   "execution_count": 48,
   "id": "b4875983",
   "metadata": {},
   "outputs": [
    {
     "data": {
      "text/html": [
       "<div>\n",
       "<style scoped>\n",
       "    .dataframe tbody tr th:only-of-type {\n",
       "        vertical-align: middle;\n",
       "    }\n",
       "\n",
       "    .dataframe tbody tr th {\n",
       "        vertical-align: top;\n",
       "    }\n",
       "\n",
       "    .dataframe thead tr th {\n",
       "        text-align: left;\n",
       "    }\n",
       "\n",
       "    .dataframe thead tr:last-of-type th {\n",
       "        text-align: right;\n",
       "    }\n",
       "</style>\n",
       "<table border=\"1\" class=\"dataframe\">\n",
       "  <thead>\n",
       "    <tr>\n",
       "      <th></th>\n",
       "      <th>order_id</th>\n",
       "      <th colspan=\"3\" halign=\"left\">days_since_prior_order</th>\n",
       "    </tr>\n",
       "    <tr>\n",
       "      <th></th>\n",
       "      <th>count</th>\n",
       "      <th>min</th>\n",
       "      <th>mean</th>\n",
       "      <th>max</th>\n",
       "    </tr>\n",
       "    <tr>\n",
       "      <th>profiling</th>\n",
       "      <th></th>\n",
       "      <th></th>\n",
       "      <th></th>\n",
       "      <th></th>\n",
       "    </tr>\n",
       "  </thead>\n",
       "  <tbody>\n",
       "    <tr>\n",
       "      <th>Senior shopper</th>\n",
       "      <td>8195544</td>\n",
       "      <td>0.0</td>\n",
       "      <td>10.791788</td>\n",
       "      <td>30.0</td>\n",
       "    </tr>\n",
       "    <tr>\n",
       "      <th>Single adult</th>\n",
       "      <td>5025433</td>\n",
       "      <td>0.0</td>\n",
       "      <td>10.826465</td>\n",
       "      <td>30.0</td>\n",
       "    </tr>\n",
       "    <tr>\n",
       "      <th>Young parent</th>\n",
       "      <td>304188</td>\n",
       "      <td>0.0</td>\n",
       "      <td>9.746415</td>\n",
       "      <td>30.0</td>\n",
       "    </tr>\n",
       "  </tbody>\n",
       "</table>\n",
       "</div>"
      ],
      "text/plain": [
       "               order_id days_since_prior_order                 \n",
       "                  count                    min       mean   max\n",
       "profiling                                                      \n",
       "Senior shopper  8195544                    0.0  10.791788  30.0\n",
       "Single adult    5025433                    0.0  10.826465  30.0\n",
       "Young parent     304188                    0.0   9.746415  30.0"
      ]
     },
     "execution_count": 48,
     "metadata": {},
     "output_type": "execute_result"
    }
   ],
   "source": [
    "# Aggregating max, mean, and min variables on a customer-profile level (profiling) for usage frequency\n",
    "profiling_agg2 = df.groupby('profiling').agg({'order_id': 'count','days_since_prior_order': ['min', 'mean', 'max']})\n",
    "profiling_agg2"
   ]
  },
  {
   "cell_type": "markdown",
   "id": "c77783e9",
   "metadata": {},
   "source": [
    "### Step 8"
   ]
  },
  {
   "cell_type": "markdown",
   "id": "26797dd6",
   "metadata": {},
   "source": [
    "Compare your customer profiles with regions and departments. Can you identify a link between them? Customers may demonstrate different behaviors across regions, which could make this information important."
   ]
  },
  {
   "cell_type": "markdown",
   "id": "cd5cede0",
   "metadata": {},
   "source": [
    "#### Customer profiles in different regions"
   ]
  },
  {
   "cell_type": "code",
   "execution_count": 49,
   "id": "cec1ae52",
   "metadata": {},
   "outputs": [
    {
     "data": {
      "text/html": [
       "<div>\n",
       "<style scoped>\n",
       "    .dataframe tbody tr th:only-of-type {\n",
       "        vertical-align: middle;\n",
       "    }\n",
       "\n",
       "    .dataframe tbody tr th {\n",
       "        vertical-align: top;\n",
       "    }\n",
       "\n",
       "    .dataframe thead th {\n",
       "        text-align: right;\n",
       "    }\n",
       "</style>\n",
       "<table border=\"1\" class=\"dataframe\">\n",
       "  <thead>\n",
       "    <tr style=\"text-align: right;\">\n",
       "      <th>region</th>\n",
       "      <th>Midwest</th>\n",
       "      <th>Northeast</th>\n",
       "      <th>South</th>\n",
       "      <th>West</th>\n",
       "    </tr>\n",
       "    <tr>\n",
       "      <th>profiling</th>\n",
       "      <th></th>\n",
       "      <th></th>\n",
       "      <th></th>\n",
       "      <th></th>\n",
       "    </tr>\n",
       "  </thead>\n",
       "  <tbody>\n",
       "    <tr>\n",
       "      <th>Senior shopper</th>\n",
       "      <td>1904046</td>\n",
       "      <td>1484807</td>\n",
       "      <td>2547754</td>\n",
       "      <td>2258937</td>\n",
       "    </tr>\n",
       "    <tr>\n",
       "      <th>Single adult</th>\n",
       "      <td>1189192</td>\n",
       "      <td>863675</td>\n",
       "      <td>1584182</td>\n",
       "      <td>1388384</td>\n",
       "    </tr>\n",
       "    <tr>\n",
       "      <th>Young parent</th>\n",
       "      <td>72115</td>\n",
       "      <td>53590</td>\n",
       "      <td>96553</td>\n",
       "      <td>81930</td>\n",
       "    </tr>\n",
       "  </tbody>\n",
       "</table>\n",
       "</div>"
      ],
      "text/plain": [
       "region          Midwest  Northeast    South     West\n",
       "profiling                                           \n",
       "Senior shopper  1904046    1484807  2547754  2258937\n",
       "Single adult    1189192     863675  1584182  1388384\n",
       "Young parent      72115      53590    96553    81930"
      ]
     },
     "execution_count": 49,
     "metadata": {},
     "output_type": "execute_result"
    }
   ],
   "source": [
    "# Summarize relationship between 'profiling' and 'region'\n",
    "region_profiling = pd.crosstab(df['profiling'],df['region'], dropna = False)\n",
    "region_profiling"
   ]
  },
  {
   "cell_type": "code",
   "execution_count": 50,
   "id": "a5d7e476",
   "metadata": {},
   "outputs": [
    {
     "data": {
      "text/plain": [
       "<matplotlib.legend.Legend at 0x7f811911efd0>"
      ]
     },
     "execution_count": 50,
     "metadata": {},
     "output_type": "execute_result"
    },
    {
     "data": {
      "image/png": "[encoded data removed]",
      "text/plain": [
       "<Figure size 1000x600 with 1 Axes>"
      ]
     },
     "metadata": {},
     "output_type": "display_data"
    }
   ],
   "source": [
    "# Create a stacked bar plot\n",
    "region_profiling_bar_stacked = region_profiling.plot.bar(stacked=True, figsize=(10, 6))\n",
    "\n",
    "plt.title('Customer Profile Distribution by Region')\n",
    "plt.xlabel('Customer Profiles')\n",
    "plt.ylabel('Count')\n",
    "plt.legend(title='Region', bbox_to_anchor=(1.05, 1), loc='upper left')"
   ]
  },
  {
   "cell_type": "code",
   "execution_count": 51,
   "id": "287f5471",
   "metadata": {},
   "outputs": [],
   "source": [
    "# Save bar plot as an image file\n",
    "region_profiling_bar_stacked.figure.savefig(os.path.join(path, '04 Analysis','Visualizations', 'region_profiling_bar_stacked.png'))"
   ]
  },
  {
   "cell_type": "markdown",
   "id": "271993d9",
   "metadata": {},
   "source": [
    "#### Customer profiles across departments"
   ]
  },
  {
   "cell_type": "code",
   "execution_count": 52,
   "id": "1210c68a",
   "metadata": {},
   "outputs": [
    {
     "data": {
      "text/html": [
       "<div>\n",
       "<style scoped>\n",
       "    .dataframe tbody tr th:only-of-type {\n",
       "        vertical-align: middle;\n",
       "    }\n",
       "\n",
       "    .dataframe tbody tr th {\n",
       "        vertical-align: top;\n",
       "    }\n",
       "\n",
       "    .dataframe thead th {\n",
       "        text-align: right;\n",
       "    }\n",
       "</style>\n",
       "<table border=\"1\" class=\"dataframe\">\n",
       "  <thead>\n",
       "    <tr style=\"text-align: right;\">\n",
       "      <th>profiling</th>\n",
       "      <th>Senior shopper</th>\n",
       "      <th>Single adult</th>\n",
       "      <th>Young parent</th>\n",
       "    </tr>\n",
       "    <tr>\n",
       "      <th>department</th>\n",
       "      <th></th>\n",
       "      <th></th>\n",
       "      <th></th>\n",
       "    </tr>\n",
       "  </thead>\n",
       "  <tbody>\n",
       "    <tr>\n",
       "      <th>alcohol</th>\n",
       "      <td>36693</td>\n",
       "      <td>24968</td>\n",
       "      <td>0</td>\n",
       "    </tr>\n",
       "    <tr>\n",
       "      <th>babies</th>\n",
       "      <td>106204</td>\n",
       "      <td>0</td>\n",
       "      <td>304188</td>\n",
       "    </tr>\n",
       "    <tr>\n",
       "      <th>bakery</th>\n",
       "      <td>295997</td>\n",
       "      <td>185660</td>\n",
       "      <td>0</td>\n",
       "    </tr>\n",
       "    <tr>\n",
       "      <th>beverages</th>\n",
       "      <td>684020</td>\n",
       "      <td>424462</td>\n",
       "      <td>0</td>\n",
       "    </tr>\n",
       "    <tr>\n",
       "      <th>breakfast</th>\n",
       "      <td>175296</td>\n",
       "      <td>109842</td>\n",
       "      <td>0</td>\n",
       "    </tr>\n",
       "    <tr>\n",
       "      <th>bulk</th>\n",
       "      <td>8945</td>\n",
       "      <td>5324</td>\n",
       "      <td>0</td>\n",
       "    </tr>\n",
       "    <tr>\n",
       "      <th>canned goods</th>\n",
       "      <td>267509</td>\n",
       "      <td>166752</td>\n",
       "      <td>0</td>\n",
       "    </tr>\n",
       "    <tr>\n",
       "      <th>dairy eggs</th>\n",
       "      <td>1368072</td>\n",
       "      <td>851774</td>\n",
       "      <td>0</td>\n",
       "    </tr>\n",
       "    <tr>\n",
       "      <th>deli</th>\n",
       "      <td>265199</td>\n",
       "      <td>166633</td>\n",
       "      <td>0</td>\n",
       "    </tr>\n",
       "    <tr>\n",
       "      <th>dry goods pasta</th>\n",
       "      <td>217316</td>\n",
       "      <td>134045</td>\n",
       "      <td>0</td>\n",
       "    </tr>\n",
       "    <tr>\n",
       "      <th>frozen</th>\n",
       "      <td>564250</td>\n",
       "      <td>345391</td>\n",
       "      <td>0</td>\n",
       "    </tr>\n",
       "    <tr>\n",
       "      <th>household</th>\n",
       "      <td>186630</td>\n",
       "      <td>112912</td>\n",
       "      <td>0</td>\n",
       "    </tr>\n",
       "    <tr>\n",
       "      <th>international</th>\n",
       "      <td>67199</td>\n",
       "      <td>42647</td>\n",
       "      <td>0</td>\n",
       "    </tr>\n",
       "    <tr>\n",
       "      <th>meat seafood</th>\n",
       "      <td>181150</td>\n",
       "      <td>108257</td>\n",
       "      <td>0</td>\n",
       "    </tr>\n",
       "    <tr>\n",
       "      <th>missing</th>\n",
       "      <td>16915</td>\n",
       "      <td>10871</td>\n",
       "      <td>0</td>\n",
       "    </tr>\n",
       "    <tr>\n",
       "      <th>other</th>\n",
       "      <td>8946</td>\n",
       "      <td>5872</td>\n",
       "      <td>0</td>\n",
       "    </tr>\n",
       "    <tr>\n",
       "      <th>pantry</th>\n",
       "      <td>472383</td>\n",
       "      <td>292013</td>\n",
       "      <td>0</td>\n",
       "    </tr>\n",
       "    <tr>\n",
       "      <th>personal care</th>\n",
       "      <td>111052</td>\n",
       "      <td>69892</td>\n",
       "      <td>0</td>\n",
       "    </tr>\n",
       "    <tr>\n",
       "      <th>pets</th>\n",
       "      <td>25115</td>\n",
       "      <td>15577</td>\n",
       "      <td>0</td>\n",
       "    </tr>\n",
       "    <tr>\n",
       "      <th>produce</th>\n",
       "      <td>2408104</td>\n",
       "      <td>1498347</td>\n",
       "      <td>0</td>\n",
       "    </tr>\n",
       "    <tr>\n",
       "      <th>snacks</th>\n",
       "      <td>728549</td>\n",
       "      <td>454194</td>\n",
       "      <td>0</td>\n",
       "    </tr>\n",
       "  </tbody>\n",
       "</table>\n",
       "</div>"
      ],
      "text/plain": [
       "profiling        Senior shopper  Single adult  Young parent\n",
       "department                                                 \n",
       "alcohol                   36693         24968             0\n",
       "babies                   106204             0        304188\n",
       "bakery                   295997        185660             0\n",
       "beverages                684020        424462             0\n",
       "breakfast                175296        109842             0\n",
       "bulk                       8945          5324             0\n",
       "canned goods             267509        166752             0\n",
       "dairy eggs              1368072        851774             0\n",
       "deli                     265199        166633             0\n",
       "dry goods pasta          217316        134045             0\n",
       "frozen                   564250        345391             0\n",
       "household                186630        112912             0\n",
       "international             67199         42647             0\n",
       "meat seafood             181150        108257             0\n",
       "missing                   16915         10871             0\n",
       "other                      8946          5872             0\n",
       "pantry                   472383        292013             0\n",
       "personal care            111052         69892             0\n",
       "pets                      25115         15577             0\n",
       "produce                 2408104       1498347             0\n",
       "snacks                   728549        454194             0"
      ]
     },
     "execution_count": 52,
     "metadata": {},
     "output_type": "execute_result"
    }
   ],
   "source": [
    "# Summarize relationship between 'profiling' and 'department'\n",
    "dept_profiling = pd.crosstab(df['department'],df['profiling'], dropna = False)\n",
    "dept_profiling"
   ]
  },
  {
   "cell_type": "markdown",
   "id": "11e9a8d8",
   "metadata": {},
   "source": [
    "### Step 9"
   ]
  },
  {
   "cell_type": "markdown",
   "id": "ad14fd27",
   "metadata": {},
   "source": [
    "Produce suitable charts to illustrate your results and export them in your project folder."
   ]
  },
  {
   "cell_type": "code",
   "execution_count": 60,
   "id": "f3c4c671",
   "metadata": {},
   "outputs": [
    {
     "data": {
      "text/plain": [
       "<matplotlib.legend.Legend at 0x7f8839f80b80>"
      ]
     },
     "execution_count": 60,
     "metadata": {},
     "output_type": "execute_result"
    },
    {
     "data": {
      "image/png": "[encoded data removed]",
      "text/plain": [
       "<Figure size 1000x600 with 1 Axes>"
      ]
     },
     "metadata": {},
     "output_type": "display_data"
    }
   ],
   "source": [
    "# Sort dept_profiling by 'Senior shopper' in descending order\n",
    "dept_profiling_sorted = dept_profiling.sort_values(by='Senior shopper', ascending=True)\n",
    "\n",
    "# Create a horizontal stacked bar plot\n",
    "dept_profiling_bar = dept_profiling_sorted.plot.barh(stacked=True, figsize=(10, 6))\n",
    "\n",
    "plt.title('Customer Profile Distribution by Department')\n",
    "plt.xlabel('Count')\n",
    "plt.ylabel('Department')\n",
    "plt.legend(title='Profile', bbox_to_anchor=(1.05, 1), loc='upper left')"
   ]
  },
  {
   "cell_type": "code",
   "execution_count": 54,
   "id": "927b95b4",
   "metadata": {},
   "outputs": [],
   "source": [
    "# Save bar plot as an image file\n",
    "dept_profiling_bar.figure.savefig(os.path.join(path, '04 Analysis','Visualizations', 'dept_profiling_bar.png'))"
   ]
  },
  {
   "cell_type": "markdown",
   "id": "23c999f8",
   "metadata": {},
   "source": [
    "**A key question from the project brief is: Are there differences in ordering habits based on a customer's loyalty status?**"
   ]
  },
  {
   "cell_type": "code",
   "execution_count": 55,
   "id": "01ead774",
   "metadata": {},
   "outputs": [
    {
     "data": {
      "text/html": [
       "<div>\n",
       "<style scoped>\n",
       "    .dataframe tbody tr th:only-of-type {\n",
       "        vertical-align: middle;\n",
       "    }\n",
       "\n",
       "    .dataframe tbody tr th {\n",
       "        vertical-align: top;\n",
       "    }\n",
       "\n",
       "    .dataframe thead th {\n",
       "        text-align: right;\n",
       "    }\n",
       "</style>\n",
       "<table border=\"1\" class=\"dataframe\">\n",
       "  <thead>\n",
       "    <tr style=\"text-align: right;\">\n",
       "      <th>loyalty_flag</th>\n",
       "      <th>Loyal customer</th>\n",
       "      <th>New customer</th>\n",
       "      <th>Regular customer</th>\n",
       "    </tr>\n",
       "    <tr>\n",
       "      <th>department</th>\n",
       "      <th></th>\n",
       "      <th></th>\n",
       "      <th></th>\n",
       "    </tr>\n",
       "  </thead>\n",
       "  <tbody>\n",
       "    <tr>\n",
       "      <th>alcohol</th>\n",
       "      <td>38723</td>\n",
       "      <td>28629</td>\n",
       "      <td>77275</td>\n",
       "    </tr>\n",
       "    <tr>\n",
       "      <th>babies</th>\n",
       "      <td>167108</td>\n",
       "      <td>46708</td>\n",
       "      <td>196576</td>\n",
       "    </tr>\n",
       "    <tr>\n",
       "      <th>bakery</th>\n",
       "      <td>379873</td>\n",
       "      <td>172104</td>\n",
       "      <td>568851</td>\n",
       "    </tr>\n",
       "    <tr>\n",
       "      <th>beverages</th>\n",
       "      <td>855017</td>\n",
       "      <td>396649</td>\n",
       "      <td>1320235</td>\n",
       "    </tr>\n",
       "    <tr>\n",
       "      <th>breakfast</th>\n",
       "      <td>221577</td>\n",
       "      <td>106179</td>\n",
       "      <td>343094</td>\n",
       "    </tr>\n",
       "    <tr>\n",
       "      <th>bulk</th>\n",
       "      <td>13834</td>\n",
       "      <td>4149</td>\n",
       "      <td>15468</td>\n",
       "    </tr>\n",
       "    <tr>\n",
       "      <th>canned goods</th>\n",
       "      <td>294594</td>\n",
       "      <td>180196</td>\n",
       "      <td>537284</td>\n",
       "    </tr>\n",
       "    <tr>\n",
       "      <th>dairy eggs</th>\n",
       "      <td>1830707</td>\n",
       "      <td>750056</td>\n",
       "      <td>2596419</td>\n",
       "    </tr>\n",
       "    <tr>\n",
       "      <th>deli</th>\n",
       "      <td>324046</td>\n",
       "      <td>158335</td>\n",
       "      <td>521453</td>\n",
       "    </tr>\n",
       "    <tr>\n",
       "      <th>dry goods pasta</th>\n",
       "      <td>242580</td>\n",
       "      <td>144836</td>\n",
       "      <td>434720</td>\n",
       "    </tr>\n",
       "    <tr>\n",
       "      <th>frozen</th>\n",
       "      <td>609460</td>\n",
       "      <td>372271</td>\n",
       "      <td>1140000</td>\n",
       "    </tr>\n",
       "    <tr>\n",
       "      <th>household</th>\n",
       "      <td>196873</td>\n",
       "      <td>128117</td>\n",
       "      <td>374867</td>\n",
       "    </tr>\n",
       "    <tr>\n",
       "      <th>international</th>\n",
       "      <td>78394</td>\n",
       "      <td>43841</td>\n",
       "      <td>133756</td>\n",
       "    </tr>\n",
       "    <tr>\n",
       "      <th>meat seafood</th>\n",
       "      <td>202480</td>\n",
       "      <td>112464</td>\n",
       "      <td>359837</td>\n",
       "    </tr>\n",
       "    <tr>\n",
       "      <th>missing</th>\n",
       "      <td>18350</td>\n",
       "      <td>12713</td>\n",
       "      <td>33705</td>\n",
       "    </tr>\n",
       "    <tr>\n",
       "      <th>other</th>\n",
       "      <td>10715</td>\n",
       "      <td>5839</td>\n",
       "      <td>17857</td>\n",
       "    </tr>\n",
       "    <tr>\n",
       "      <th>pantry</th>\n",
       "      <td>560402</td>\n",
       "      <td>299576</td>\n",
       "      <td>922727</td>\n",
       "    </tr>\n",
       "    <tr>\n",
       "      <th>personal care</th>\n",
       "      <td>123365</td>\n",
       "      <td>75442</td>\n",
       "      <td>225499</td>\n",
       "    </tr>\n",
       "    <tr>\n",
       "      <th>pets</th>\n",
       "      <td>25469</td>\n",
       "      <td>15880</td>\n",
       "      <td>51711</td>\n",
       "    </tr>\n",
       "    <tr>\n",
       "      <th>produce</th>\n",
       "      <td>3147376</td>\n",
       "      <td>1336604</td>\n",
       "      <td>4595293</td>\n",
       "    </tr>\n",
       "    <tr>\n",
       "      <th>snacks</th>\n",
       "      <td>943150</td>\n",
       "      <td>413107</td>\n",
       "      <td>1410149</td>\n",
       "    </tr>\n",
       "  </tbody>\n",
       "</table>\n",
       "</div>"
      ],
      "text/plain": [
       "loyalty_flag     Loyal customer  New customer  Regular customer\n",
       "department                                                     \n",
       "alcohol                   38723         28629             77275\n",
       "babies                   167108         46708            196576\n",
       "bakery                   379873        172104            568851\n",
       "beverages                855017        396649           1320235\n",
       "breakfast                221577        106179            343094\n",
       "bulk                      13834          4149             15468\n",
       "canned goods             294594        180196            537284\n",
       "dairy eggs              1830707        750056           2596419\n",
       "deli                     324046        158335            521453\n",
       "dry goods pasta          242580        144836            434720\n",
       "frozen                   609460        372271           1140000\n",
       "household                196873        128117            374867\n",
       "international             78394         43841            133756\n",
       "meat seafood             202480        112464            359837\n",
       "missing                   18350         12713             33705\n",
       "other                     10715          5839             17857\n",
       "pantry                   560402        299576            922727\n",
       "personal care            123365         75442            225499\n",
       "pets                      25469         15880             51711\n",
       "produce                 3147376       1336604           4595293\n",
       "snacks                   943150        413107           1410149"
      ]
     },
     "execution_count": 55,
     "metadata": {},
     "output_type": "execute_result"
    }
   ],
   "source": [
    "# Summarize relationship between 'loyalty_flag' and 'department'\n",
    "dept_loyalty = pd.crosstab(df['department'],df['loyalty_flag'], dropna = False)\n",
    "dept_loyalty"
   ]
  },
  {
   "cell_type": "code",
   "execution_count": 59,
   "id": "cec7a259",
   "metadata": {},
   "outputs": [
    {
     "data": {
      "text/plain": [
       "<matplotlib.legend.Legend at 0x7f81188f6f70>"
      ]
     },
     "execution_count": 59,
     "metadata": {},
     "output_type": "execute_result"
    },
    {
     "data": {
      "image/png": "[encoded data removed]",
      "text/plain": [
       "<Figure size 1000x600 with 1 Axes>"
      ]
     },
     "metadata": {},
     "output_type": "display_data"
    }
   ],
   "source": [
    "# Sort dept_loyalty by 'Regular customer' in descending order\n",
    "dept_loyalty_sorted = dept_loyalty.sort_values(by='Regular customer', ascending=True)\n",
    "\n",
    "# Create a horizontal stacked bar plot\n",
    "dept_loyalty_bar = dept_loyalty_sorted.plot.barh(stacked=True, figsize=(10, 6))\n",
    "\n",
    "plt.title('Loyalty Flag Distribution by Department')\n",
    "plt.xlabel('Number of Orders')\n",
    "plt.ylabel('Department')\n",
    "plt.legend(title='Key', bbox_to_anchor=(1.05, 1), loc='upper left')"
   ]
  },
  {
   "cell_type": "code",
   "execution_count": 58,
   "id": "c1648f95",
   "metadata": {},
   "outputs": [],
   "source": [
    "# Save bar plot as an image file\n",
    "dept_loyalty_bar.figure.savefig(os.path.join(path, '04 Analysis','Visualizations', 'dept_loyalty_bar.png'))"
   ]
  },
  {
   "cell_type": "markdown",
   "id": "ee72cb0f",
   "metadata": {},
   "source": [
    "### Step 10"
   ]
  },
  {
   "cell_type": "markdown",
   "id": "e4955851",
   "metadata": {},
   "source": [
    "Tidy up your script, export your final data set, and save your notebook."
   ]
  },
  {
   "cell_type": "code",
   "execution_count": 54,
   "id": "105801be",
   "metadata": {},
   "outputs": [],
   "source": [
    "# Export final dataset\n",
    "df.to_pickle(os.path.join(path, '02 Data', 'Prepared Data', 'final_df.pkl'))"
   ]
  }
 ],
 "metadata": {
  "kernelspec": {
   "display_name": "Python 3 (ipykernel)",
   "language": "python",
   "name": "python3"
  },
  "language_info": {
   "codemirror_mode": {
    "name": "ipython",
    "version": 3
   },
   "file_extension": ".py",
   "mimetype": "text/x-python",
   "name": "python",
   "nbconvert_exporter": "python",
   "pygments_lexer": "ipython3",
   "version": "3.9.16"
  }
 },
 "nbformat": 4,
 "nbformat_minor": 5
}
