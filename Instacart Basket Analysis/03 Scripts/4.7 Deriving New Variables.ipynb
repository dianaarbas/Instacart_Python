{
 "cells": [
  {
   "cell_type": "markdown",
   "id": "312cff0b-c505-47dd-8bcb-0ee78ce18202",
   "metadata": {},
   "source": [
    "# Importing libraries"
   ]
  },
  {
   "cell_type": "code",
   "execution_count": 179,
   "id": "03174913-9e72-40e7-89ce-6d0b171b4769",
   "metadata": {},
   "outputs": [],
   "source": [
    "# Import libraries\n",
    "import pandas as pd\n",
    "import numpy as np\n",
    "import os"
   ]
  },
  {
   "cell_type": "markdown",
   "id": "bb69d110-e3a7-4573-b183-72d4b653cc0d",
   "metadata": {},
   "source": [
    "# Importing data"
   ]
  },
  {
   "cell_type": "code",
   "execution_count": 180,
   "id": "1176f4dc-d0d9-455b-94a8-2a09ab819282",
   "metadata": {},
   "outputs": [],
   "source": [
    "# Turn your project folder path into a string\n",
    "path = r'/Users/dianafayarbas/Desktop/10.24.2023 Instacart Basket Analysis'"
   ]
  },
  {
   "cell_type": "code",
   "execution_count": 181,
   "id": "c2654ea9",
   "metadata": {},
   "outputs": [
    {
     "data": {
      "text/plain": [
       "'/Users/dianafayarbas/Desktop/10.24.2023 Instacart Basket Analysis'"
      ]
     },
     "execution_count": 181,
     "metadata": {},
     "output_type": "execute_result"
    }
   ],
   "source": [
    "path"
   ]
  },
  {
   "cell_type": "markdown",
   "id": "423c6785",
   "metadata": {},
   "source": [
    "# If-Statements with User-Defined Functions"
   ]
  },
  {
   "cell_type": "code",
   "execution_count": 182,
   "id": "80e9588c",
   "metadata": {},
   "outputs": [],
   "source": [
    "# Import the ords_prods_merged dataframe you exported in the previous task\n",
    "ords_prods_merged = pd.read_pickle(os.path.join(path, '02 Data', 'Prepared Data', 'orders_products_merged.pkl'))"
   ]
  },
  {
   "cell_type": "code",
   "execution_count": 183,
   "id": "554afa69",
   "metadata": {},
   "outputs": [],
   "source": [
    "# Work with a subset of the dataframe\n",
    "df = ords_prods_merged[:1000000]"
   ]
  },
  {
   "cell_type": "code",
   "execution_count": 184,
   "id": "2a1dade2",
   "metadata": {},
   "outputs": [],
   "source": [
    "# Drop _merge column\n",
    "df = df.drop('_merge', axis=1)"
   ]
  },
  {
   "cell_type": "code",
   "execution_count": 185,
   "id": "6a9d767f",
   "metadata": {},
   "outputs": [],
   "source": [
    "def price_label(row):\n",
    "\n",
    "  if row['prices'] <= 5:\n",
    "    return 'Low-range product'\n",
    "  elif (row['prices'] > 5) and (row['prices'] <= 15):\n",
    "    return 'Mid-range product'\n",
    "  elif row['prices'] > 15:\n",
    "    return 'High range'\n",
    "  else: return 'Not enough data'"
   ]
  },
  {
   "cell_type": "code",
   "execution_count": 186,
   "id": "00e5ff5c",
   "metadata": {},
   "outputs": [],
   "source": [
    "df['price_range'] = df.apply(price_label, axis=1)"
   ]
  },
  {
   "cell_type": "code",
   "execution_count": 187,
   "id": "3a43cdd5",
   "metadata": {},
   "outputs": [
    {
     "data": {
      "text/plain": [
       "(1000000, 14)"
      ]
     },
     "execution_count": 187,
     "metadata": {},
     "output_type": "execute_result"
    }
   ],
   "source": [
    "df.shape"
   ]
  },
  {
   "cell_type": "code",
   "execution_count": 188,
   "id": "bcf1d806",
   "metadata": {},
   "outputs": [
    {
     "data": {
      "text/plain": [
       "Mid-range product    652638\n",
       "Low-range product    338018\n",
       "High range             9344\n",
       "Name: price_range, dtype: int64"
      ]
     },
     "execution_count": 188,
     "metadata": {},
     "output_type": "execute_result"
    }
   ],
   "source": [
    "# Run the value_counts() function to check the values in your new column\n",
    "df['price_range'].value_counts()"
   ]
  },
  {
   "cell_type": "code",
   "execution_count": 189,
   "id": "ecdeb773",
   "metadata": {},
   "outputs": [
    {
     "data": {
      "text/plain": [
       "24.5"
      ]
     },
     "execution_count": 189,
     "metadata": {},
     "output_type": "execute_result"
    }
   ],
   "source": [
    "df['prices'].max()"
   ]
  },
  {
   "cell_type": "markdown",
   "id": "9e8fb289",
   "metadata": {},
   "source": [
    "# If-Statements with the loc() Function"
   ]
  },
  {
   "cell_type": "code",
   "execution_count": 190,
   "id": "5bd6ddd3",
   "metadata": {},
   "outputs": [],
   "source": [
    "df.loc[df['prices'] > 15, 'price_range_loc'] = 'High-range product'"
   ]
  },
  {
   "cell_type": "code",
   "execution_count": 191,
   "id": "2a5f6ac8",
   "metadata": {},
   "outputs": [],
   "source": [
    "df.loc[(df['prices'] <= 15) & (df['prices'] > 5), 'price_range_loc'] = 'Mid-range product' "
   ]
  },
  {
   "cell_type": "code",
   "execution_count": 192,
   "id": "4d1f5087",
   "metadata": {},
   "outputs": [],
   "source": [
    "df.loc[df['prices'] <= 5, 'price_range_loc'] = 'Low-range product'"
   ]
  },
  {
   "cell_type": "code",
   "execution_count": 193,
   "id": "1b56656e",
   "metadata": {},
   "outputs": [
    {
     "data": {
      "text/plain": [
       "Mid-range product     652638\n",
       "Low-range product     338018\n",
       "High-range product      9344\n",
       "Name: price_range_loc, dtype: int64"
      ]
     },
     "execution_count": 193,
     "metadata": {},
     "output_type": "execute_result"
    }
   ],
   "source": [
    "df['price_range_loc'].value_counts(dropna = False)"
   ]
  },
  {
   "cell_type": "markdown",
   "id": "a51ae139",
   "metadata": {},
   "source": [
    "# If-Statements with For-Loops"
   ]
  },
  {
   "cell_type": "code",
   "execution_count": 194,
   "id": "e2f1f51c",
   "metadata": {},
   "outputs": [
    {
     "data": {
      "text/plain": [
       "0    6204182\n",
       "1    5660230\n",
       "6    4496490\n",
       "2    4213830\n",
       "5    4205791\n",
       "3    3840534\n",
       "4    3783802\n",
       "Name: orders_day_of_week, dtype: int64"
      ]
     },
     "execution_count": 194,
     "metadata": {},
     "output_type": "execute_result"
    }
   ],
   "source": [
    "ords_prods_merged['orders_day_of_week'].value_counts(dropna = False)"
   ]
  },
  {
   "cell_type": "code",
   "execution_count": 195,
   "id": "1bb056f6",
   "metadata": {},
   "outputs": [],
   "source": [
    "# Create a new column, “busiest day,” that will contain one of three different values: \n",
    "# “Busiest day,” “Least busy,” and “Regularly busy.”\n",
    "# for-loop\n",
    "\n",
    "result = []\n",
    "\n",
    "for value in ords_prods_merged[\"orders_day_of_week\"]:\n",
    "  if value == 0:\n",
    "    result.append(\"Busiest day\")\n",
    "  elif value == 4:\n",
    "    result.append(\"Least busy\")\n",
    "  else:\n",
    "    result.append(\"Regularly busy\")"
   ]
  },
  {
   "cell_type": "code",
   "execution_count": 196,
   "id": "abab9776",
   "metadata": {},
   "outputs": [],
   "source": [
    "# Create a new column within your ords_prods_merge dataframe and set it equal to result\n",
    "ords_prods_merged['busiest_day'] = result"
   ]
  },
  {
   "cell_type": "code",
   "execution_count": 197,
   "id": "71a01cb1",
   "metadata": {},
   "outputs": [
    {
     "data": {
      "text/plain": [
       "Regularly busy    22416875\n",
       "Busiest day        6204182\n",
       "Least busy         3783802\n",
       "Name: busiest_day, dtype: int64"
      ]
     },
     "execution_count": 197,
     "metadata": {},
     "output_type": "execute_result"
    }
   ],
   "source": [
    "ords_prods_merged['busiest_day'].value_counts(dropna = False)"
   ]
  },
  {
   "cell_type": "markdown",
   "id": "ac5f6d02",
   "metadata": {},
   "source": [
    "# Task 4.7"
   ]
  },
  {
   "cell_type": "markdown",
   "id": "b0e7d362",
   "metadata": {},
   "source": [
    "### Step 1"
   ]
  },
  {
   "cell_type": "code",
   "execution_count": 198,
   "id": "dc7d54f1",
   "metadata": {},
   "outputs": [],
   "source": [
    "# If you haven’t done so already, complete the instructions in the Exercise for creating \n",
    "# the “price_label” and “busiest_day” columns.\n",
    "\n",
    "# Drop _merge column\n",
    "ords_prods_merged = ords_prods_merged.drop('_merge', axis=1)\n",
    "# ords_prods_merged.head()\n",
    "# busiest_day is here"
   ]
  },
  {
   "cell_type": "code",
   "execution_count": 199,
   "id": "7200923d",
   "metadata": {},
   "outputs": [],
   "source": [
    "# Create price_label column\n",
    "\n",
    "ords_prods_merged.loc[ords_prods_merged['prices'] > 15, 'price_range_loc'] = 'High-range product'"
   ]
  },
  {
   "cell_type": "code",
   "execution_count": 200,
   "id": "43d9e22d",
   "metadata": {},
   "outputs": [],
   "source": [
    "ords_prods_merged.loc[(ords_prods_merged['prices'] <= 15) & (ords_prods_merged['prices'] > 5), 'price_range_loc'] = 'Mid-range product' "
   ]
  },
  {
   "cell_type": "code",
   "execution_count": 201,
   "id": "66e4b144",
   "metadata": {},
   "outputs": [
    {
     "data": {
      "text/html": [
       "<div>\n",
       "<style scoped>\n",
       "    .dataframe tbody tr th:only-of-type {\n",
       "        vertical-align: middle;\n",
       "    }\n",
       "\n",
       "    .dataframe tbody tr th {\n",
       "        vertical-align: top;\n",
       "    }\n",
       "\n",
       "    .dataframe thead th {\n",
       "        text-align: right;\n",
       "    }\n",
       "</style>\n",
       "<table border=\"1\" class=\"dataframe\">\n",
       "  <thead>\n",
       "    <tr style=\"text-align: right;\">\n",
       "      <th></th>\n",
       "      <th>product_id</th>\n",
       "      <th>product_name</th>\n",
       "      <th>aisle_id</th>\n",
       "      <th>department_id</th>\n",
       "      <th>prices</th>\n",
       "      <th>order_id</th>\n",
       "      <th>user_id</th>\n",
       "      <th>order_number</th>\n",
       "      <th>orders_day_of_week</th>\n",
       "      <th>order_hour_of_day</th>\n",
       "      <th>days_since_prior_order</th>\n",
       "      <th>add_to_cart_order</th>\n",
       "      <th>reordered</th>\n",
       "      <th>busiest_day</th>\n",
       "      <th>price_range_loc</th>\n",
       "    </tr>\n",
       "  </thead>\n",
       "  <tbody>\n",
       "    <tr>\n",
       "      <th>0</th>\n",
       "      <td>1</td>\n",
       "      <td>Chocolate Sandwich Cookies</td>\n",
       "      <td>61</td>\n",
       "      <td>19</td>\n",
       "      <td>5.8</td>\n",
       "      <td>3139998</td>\n",
       "      <td>138</td>\n",
       "      <td>28</td>\n",
       "      <td>6</td>\n",
       "      <td>11</td>\n",
       "      <td>3.0</td>\n",
       "      <td>5</td>\n",
       "      <td>0</td>\n",
       "      <td>Regularly busy</td>\n",
       "      <td>Mid-range product</td>\n",
       "    </tr>\n",
       "    <tr>\n",
       "      <th>1</th>\n",
       "      <td>1</td>\n",
       "      <td>Chocolate Sandwich Cookies</td>\n",
       "      <td>61</td>\n",
       "      <td>19</td>\n",
       "      <td>5.8</td>\n",
       "      <td>1977647</td>\n",
       "      <td>138</td>\n",
       "      <td>30</td>\n",
       "      <td>6</td>\n",
       "      <td>17</td>\n",
       "      <td>20.0</td>\n",
       "      <td>1</td>\n",
       "      <td>1</td>\n",
       "      <td>Regularly busy</td>\n",
       "      <td>Mid-range product</td>\n",
       "    </tr>\n",
       "    <tr>\n",
       "      <th>2</th>\n",
       "      <td>1</td>\n",
       "      <td>Chocolate Sandwich Cookies</td>\n",
       "      <td>61</td>\n",
       "      <td>19</td>\n",
       "      <td>5.8</td>\n",
       "      <td>389851</td>\n",
       "      <td>709</td>\n",
       "      <td>2</td>\n",
       "      <td>0</td>\n",
       "      <td>21</td>\n",
       "      <td>6.0</td>\n",
       "      <td>20</td>\n",
       "      <td>0</td>\n",
       "      <td>Busiest day</td>\n",
       "      <td>Mid-range product</td>\n",
       "    </tr>\n",
       "    <tr>\n",
       "      <th>3</th>\n",
       "      <td>1</td>\n",
       "      <td>Chocolate Sandwich Cookies</td>\n",
       "      <td>61</td>\n",
       "      <td>19</td>\n",
       "      <td>5.8</td>\n",
       "      <td>652770</td>\n",
       "      <td>764</td>\n",
       "      <td>1</td>\n",
       "      <td>3</td>\n",
       "      <td>13</td>\n",
       "      <td>NaN</td>\n",
       "      <td>10</td>\n",
       "      <td>0</td>\n",
       "      <td>Regularly busy</td>\n",
       "      <td>Mid-range product</td>\n",
       "    </tr>\n",
       "    <tr>\n",
       "      <th>4</th>\n",
       "      <td>1</td>\n",
       "      <td>Chocolate Sandwich Cookies</td>\n",
       "      <td>61</td>\n",
       "      <td>19</td>\n",
       "      <td>5.8</td>\n",
       "      <td>1813452</td>\n",
       "      <td>764</td>\n",
       "      <td>3</td>\n",
       "      <td>4</td>\n",
       "      <td>17</td>\n",
       "      <td>9.0</td>\n",
       "      <td>11</td>\n",
       "      <td>1</td>\n",
       "      <td>Least busy</td>\n",
       "      <td>Mid-range product</td>\n",
       "    </tr>\n",
       "  </tbody>\n",
       "</table>\n",
       "</div>"
      ],
      "text/plain": [
       "   product_id                product_name  aisle_id  department_id  prices  \\\n",
       "0           1  Chocolate Sandwich Cookies        61             19     5.8   \n",
       "1           1  Chocolate Sandwich Cookies        61             19     5.8   \n",
       "2           1  Chocolate Sandwich Cookies        61             19     5.8   \n",
       "3           1  Chocolate Sandwich Cookies        61             19     5.8   \n",
       "4           1  Chocolate Sandwich Cookies        61             19     5.8   \n",
       "\n",
       "   order_id  user_id  order_number  orders_day_of_week  order_hour_of_day  \\\n",
       "0   3139998      138            28                   6                 11   \n",
       "1   1977647      138            30                   6                 17   \n",
       "2    389851      709             2                   0                 21   \n",
       "3    652770      764             1                   3                 13   \n",
       "4   1813452      764             3                   4                 17   \n",
       "\n",
       "   days_since_prior_order  add_to_cart_order  reordered     busiest_day  \\\n",
       "0                     3.0                  5          0  Regularly busy   \n",
       "1                    20.0                  1          1  Regularly busy   \n",
       "2                     6.0                 20          0     Busiest day   \n",
       "3                     NaN                 10          0  Regularly busy   \n",
       "4                     9.0                 11          1      Least busy   \n",
       "\n",
       "     price_range_loc  \n",
       "0  Mid-range product  \n",
       "1  Mid-range product  \n",
       "2  Mid-range product  \n",
       "3  Mid-range product  \n",
       "4  Mid-range product  "
      ]
     },
     "execution_count": 201,
     "metadata": {},
     "output_type": "execute_result"
    }
   ],
   "source": [
    "ords_prods_merged.loc[ords_prods_merged['prices'] <= 5, 'price_range_loc'] = 'Low-range product'\n",
    "ords_prods_merged.head()\n",
    "# price_range_loc is here now too"
   ]
  },
  {
   "cell_type": "markdown",
   "id": "9effb2ac",
   "metadata": {},
   "source": [
    "### Step 2"
   ]
  },
  {
   "cell_type": "code",
   "execution_count": 202,
   "id": "ad4e7639",
   "metadata": {},
   "outputs": [
    {
     "data": {
      "text/plain": [
       "0    6204182\n",
       "1    5660230\n",
       "6    4496490\n",
       "2    4213830\n",
       "5    4205791\n",
       "3    3840534\n",
       "4    3783802\n",
       "Name: orders_day_of_week, dtype: int64"
      ]
     },
     "execution_count": 202,
     "metadata": {},
     "output_type": "execute_result"
    }
   ],
   "source": [
    "# Suppose your clients have changed their minds about the labels you created in your \n",
    "# “busiest_day” column. Now, they want “Busiest day” to become “Busiest days” (plural). \n",
    "# This label should correspond with the two busiest days of the week as opposed to the \n",
    "# single busiest day. At the same time, they’d also like to know the two slowest days. \n",
    "# Create a new column for this using a suitable method.\n",
    "\n",
    "ords_prods_merged['orders_day_of_week'].value_counts(dropna = False)\n",
    "\n",
    "# 0 and 1 are the busiest days of the week\n",
    "# 3 and 4 are the slowest days of the week"
   ]
  },
  {
   "cell_type": "code",
   "execution_count": 204,
   "id": "5c929ca0",
   "metadata": {},
   "outputs": [],
   "source": [
    "# Create a new column, “busiest_days,” that will contain one of three different values: \n",
    "# “Busiest days,” “Least busy,” and “Regularly busy.”\n",
    "# for-loop\n",
    "\n",
    "result2 = []\n",
    "\n",
    "for value in ords_prods_merged[\"orders_day_of_week\"]:\n",
    "  if value == 0 or value == 1 :\n",
    "    result2.append(\"Busiest days\")\n",
    "  elif value == 3 or value == 4:\n",
    "    result2.append(\"Least busy\")\n",
    "  else:\n",
    "    result2.append(\"Regularly busy\")"
   ]
  },
  {
   "cell_type": "code",
   "execution_count": 205,
   "id": "da704922",
   "metadata": {},
   "outputs": [
    {
     "data": {
      "text/html": [
       "<div>\n",
       "<style scoped>\n",
       "    .dataframe tbody tr th:only-of-type {\n",
       "        vertical-align: middle;\n",
       "    }\n",
       "\n",
       "    .dataframe tbody tr th {\n",
       "        vertical-align: top;\n",
       "    }\n",
       "\n",
       "    .dataframe thead th {\n",
       "        text-align: right;\n",
       "    }\n",
       "</style>\n",
       "<table border=\"1\" class=\"dataframe\">\n",
       "  <thead>\n",
       "    <tr style=\"text-align: right;\">\n",
       "      <th></th>\n",
       "      <th>product_id</th>\n",
       "      <th>product_name</th>\n",
       "      <th>aisle_id</th>\n",
       "      <th>department_id</th>\n",
       "      <th>prices</th>\n",
       "      <th>order_id</th>\n",
       "      <th>user_id</th>\n",
       "      <th>order_number</th>\n",
       "      <th>orders_day_of_week</th>\n",
       "      <th>order_hour_of_day</th>\n",
       "      <th>days_since_prior_order</th>\n",
       "      <th>add_to_cart_order</th>\n",
       "      <th>reordered</th>\n",
       "      <th>busiest_day</th>\n",
       "      <th>price_range_loc</th>\n",
       "      <th>busiest_days</th>\n",
       "    </tr>\n",
       "  </thead>\n",
       "  <tbody>\n",
       "    <tr>\n",
       "      <th>0</th>\n",
       "      <td>1</td>\n",
       "      <td>Chocolate Sandwich Cookies</td>\n",
       "      <td>61</td>\n",
       "      <td>19</td>\n",
       "      <td>5.8</td>\n",
       "      <td>3139998</td>\n",
       "      <td>138</td>\n",
       "      <td>28</td>\n",
       "      <td>6</td>\n",
       "      <td>11</td>\n",
       "      <td>3.0</td>\n",
       "      <td>5</td>\n",
       "      <td>0</td>\n",
       "      <td>Regularly busy</td>\n",
       "      <td>Mid-range product</td>\n",
       "      <td>Regularly busy</td>\n",
       "    </tr>\n",
       "    <tr>\n",
       "      <th>1</th>\n",
       "      <td>1</td>\n",
       "      <td>Chocolate Sandwich Cookies</td>\n",
       "      <td>61</td>\n",
       "      <td>19</td>\n",
       "      <td>5.8</td>\n",
       "      <td>1977647</td>\n",
       "      <td>138</td>\n",
       "      <td>30</td>\n",
       "      <td>6</td>\n",
       "      <td>17</td>\n",
       "      <td>20.0</td>\n",
       "      <td>1</td>\n",
       "      <td>1</td>\n",
       "      <td>Regularly busy</td>\n",
       "      <td>Mid-range product</td>\n",
       "      <td>Regularly busy</td>\n",
       "    </tr>\n",
       "    <tr>\n",
       "      <th>2</th>\n",
       "      <td>1</td>\n",
       "      <td>Chocolate Sandwich Cookies</td>\n",
       "      <td>61</td>\n",
       "      <td>19</td>\n",
       "      <td>5.8</td>\n",
       "      <td>389851</td>\n",
       "      <td>709</td>\n",
       "      <td>2</td>\n",
       "      <td>0</td>\n",
       "      <td>21</td>\n",
       "      <td>6.0</td>\n",
       "      <td>20</td>\n",
       "      <td>0</td>\n",
       "      <td>Busiest day</td>\n",
       "      <td>Mid-range product</td>\n",
       "      <td>Busiest days</td>\n",
       "    </tr>\n",
       "    <tr>\n",
       "      <th>3</th>\n",
       "      <td>1</td>\n",
       "      <td>Chocolate Sandwich Cookies</td>\n",
       "      <td>61</td>\n",
       "      <td>19</td>\n",
       "      <td>5.8</td>\n",
       "      <td>652770</td>\n",
       "      <td>764</td>\n",
       "      <td>1</td>\n",
       "      <td>3</td>\n",
       "      <td>13</td>\n",
       "      <td>NaN</td>\n",
       "      <td>10</td>\n",
       "      <td>0</td>\n",
       "      <td>Regularly busy</td>\n",
       "      <td>Mid-range product</td>\n",
       "      <td>Least busy</td>\n",
       "    </tr>\n",
       "    <tr>\n",
       "      <th>4</th>\n",
       "      <td>1</td>\n",
       "      <td>Chocolate Sandwich Cookies</td>\n",
       "      <td>61</td>\n",
       "      <td>19</td>\n",
       "      <td>5.8</td>\n",
       "      <td>1813452</td>\n",
       "      <td>764</td>\n",
       "      <td>3</td>\n",
       "      <td>4</td>\n",
       "      <td>17</td>\n",
       "      <td>9.0</td>\n",
       "      <td>11</td>\n",
       "      <td>1</td>\n",
       "      <td>Least busy</td>\n",
       "      <td>Mid-range product</td>\n",
       "      <td>Least busy</td>\n",
       "    </tr>\n",
       "  </tbody>\n",
       "</table>\n",
       "</div>"
      ],
      "text/plain": [
       "   product_id                product_name  aisle_id  department_id  prices  \\\n",
       "0           1  Chocolate Sandwich Cookies        61             19     5.8   \n",
       "1           1  Chocolate Sandwich Cookies        61             19     5.8   \n",
       "2           1  Chocolate Sandwich Cookies        61             19     5.8   \n",
       "3           1  Chocolate Sandwich Cookies        61             19     5.8   \n",
       "4           1  Chocolate Sandwich Cookies        61             19     5.8   \n",
       "\n",
       "   order_id  user_id  order_number  orders_day_of_week  order_hour_of_day  \\\n",
       "0   3139998      138            28                   6                 11   \n",
       "1   1977647      138            30                   6                 17   \n",
       "2    389851      709             2                   0                 21   \n",
       "3    652770      764             1                   3                 13   \n",
       "4   1813452      764             3                   4                 17   \n",
       "\n",
       "   days_since_prior_order  add_to_cart_order  reordered     busiest_day  \\\n",
       "0                     3.0                  5          0  Regularly busy   \n",
       "1                    20.0                  1          1  Regularly busy   \n",
       "2                     6.0                 20          0     Busiest day   \n",
       "3                     NaN                 10          0  Regularly busy   \n",
       "4                     9.0                 11          1      Least busy   \n",
       "\n",
       "     price_range_loc    busiest_days  \n",
       "0  Mid-range product  Regularly busy  \n",
       "1  Mid-range product  Regularly busy  \n",
       "2  Mid-range product    Busiest days  \n",
       "3  Mid-range product      Least busy  \n",
       "4  Mid-range product      Least busy  "
      ]
     },
     "execution_count": 205,
     "metadata": {},
     "output_type": "execute_result"
    }
   ],
   "source": [
    "# Create a new column within your ords_prods_merge dataframe and set it equal to result2\n",
    "ords_prods_merged['busiest_days'] = result2\n",
    "ords_prods_merged.head()"
   ]
  },
  {
   "cell_type": "markdown",
   "id": "5993e58e",
   "metadata": {},
   "source": [
    "### Step 3"
   ]
  },
  {
   "cell_type": "code",
   "execution_count": 209,
   "id": "93ae84b8",
   "metadata": {},
   "outputs": [
    {
     "data": {
      "text/plain": [
       "0    6204182\n",
       "1    5660230\n",
       "6    4496490\n",
       "2    4213830\n",
       "5    4205791\n",
       "3    3840534\n",
       "4    3783802\n",
       "Name: orders_day_of_week, dtype: int64"
      ]
     },
     "execution_count": 209,
     "metadata": {},
     "output_type": "execute_result"
    }
   ],
   "source": [
    "# Check the values of this new column for accuracy. Note any observations in markdown format.\n",
    "ords_prods_merged['orders_day_of_week'].value_counts(dropna = False)"
   ]
  },
  {
   "cell_type": "code",
   "execution_count": 210,
   "id": "fca767d3",
   "metadata": {},
   "outputs": [
    {
     "data": {
      "text/plain": [
       "Regularly busy    12916111\n",
       "Busiest days      11864412\n",
       "Least busy         7624336\n",
       "Name: busiest_days, dtype: int64"
      ]
     },
     "execution_count": 210,
     "metadata": {},
     "output_type": "execute_result"
    }
   ],
   "source": [
    "ords_prods_merged['busiest_days'].value_counts(dropna = False)"
   ]
  },
  {
   "cell_type": "markdown",
   "id": "889c1aa4",
   "metadata": {},
   "source": [
    "**Busiest days are the sum of 0 and 1 frequencies. Least busy is the sum of 3 and 4 frequencies. Regularly busy is the sum of all the other days' frequencies. Everything checks out.**"
   ]
  },
  {
   "cell_type": "markdown",
   "id": "329cb99e",
   "metadata": {},
   "source": [
    "### Step 4"
   ]
  },
  {
   "cell_type": "code",
   "execution_count": 213,
   "id": "4c4a2d2e",
   "metadata": {},
   "outputs": [
    {
     "data": {
      "text/plain": [
       "10    2761760\n",
       "11    2736140\n",
       "14    2689136\n",
       "15    2662144\n",
       "13    2660954\n",
       "12    2618532\n",
       "16    2535202\n",
       "9     2454203\n",
       "17    2087654\n",
       "8     1718118\n",
       "18    1636502\n",
       "19    1258305\n",
       "20     976156\n",
       "7      891054\n",
       "21     795637\n",
       "22     634225\n",
       "23     402316\n",
       "6      290493\n",
       "0      218769\n",
       "1      115700\n",
       "5       87961\n",
       "2       69375\n",
       "4       53242\n",
       "3       51281\n",
       "Name: order_hour_of_day, dtype: int64"
      ]
     },
     "execution_count": 213,
     "metadata": {},
     "output_type": "execute_result"
    }
   ],
   "source": [
    "# The senior technical officer at Instacart wants you to identify the busiest hours \n",
    "# of the day. Rather than by hour, they want periods of time labeled “Most orders,” \n",
    "# “Average orders,” and “Fewest orders.” Create a new column containing these labels \n",
    "# called “busiest_period_of_day.”\n",
    "\n",
    "# ords_prods_merged.head()\n",
    "ords_prods_merged['order_hour_of_day'].value_counts(dropna = False)"
   ]
  },
  {
   "cell_type": "markdown",
   "id": "cc6b5fcf",
   "metadata": {},
   "source": [
    "**Most orders: 10, 11, 14, 15, 13, 12, 16, and 9. Average orders: 17, 8, 18, 19, 20, 7, 21, and 22. Fewest orders: 23, 6, 0, 1, 5, 2, 4, and 3.**"
   ]
  },
  {
   "cell_type": "code",
   "execution_count": 219,
   "id": "c3cf9198",
   "metadata": {},
   "outputs": [],
   "source": [
    "# Create a new column, “busiest_period_of_day,” that will contain: \n",
    "# “Most orders,” “Average orders,” and “Fewest orders.”\n",
    "# for-loop\n",
    "\n",
    "result3 = []\n",
    "\n",
    "for value in ords_prods_merged[\"order_hour_of_day\"]:\n",
    "  if value in [10, 11, 14, 15, 13, 12, 16, 9]:\n",
    "    result3.append(\"Most orders\")\n",
    "  elif value in [17, 8, 18, 19, 20, 7, 21, 22]:\n",
    "    result3.append(\"Average orders\")\n",
    "  else:\n",
    "    result3.append(\"Fewest orders\")"
   ]
  },
  {
   "cell_type": "code",
   "execution_count": 220,
   "id": "93e9af95",
   "metadata": {},
   "outputs": [
    {
     "data": {
      "text/html": [
       "<div>\n",
       "<style scoped>\n",
       "    .dataframe tbody tr th:only-of-type {\n",
       "        vertical-align: middle;\n",
       "    }\n",
       "\n",
       "    .dataframe tbody tr th {\n",
       "        vertical-align: top;\n",
       "    }\n",
       "\n",
       "    .dataframe thead th {\n",
       "        text-align: right;\n",
       "    }\n",
       "</style>\n",
       "<table border=\"1\" class=\"dataframe\">\n",
       "  <thead>\n",
       "    <tr style=\"text-align: right;\">\n",
       "      <th></th>\n",
       "      <th>product_id</th>\n",
       "      <th>product_name</th>\n",
       "      <th>aisle_id</th>\n",
       "      <th>department_id</th>\n",
       "      <th>prices</th>\n",
       "      <th>order_id</th>\n",
       "      <th>user_id</th>\n",
       "      <th>order_number</th>\n",
       "      <th>orders_day_of_week</th>\n",
       "      <th>order_hour_of_day</th>\n",
       "      <th>days_since_prior_order</th>\n",
       "      <th>add_to_cart_order</th>\n",
       "      <th>reordered</th>\n",
       "      <th>busiest_day</th>\n",
       "      <th>price_range_loc</th>\n",
       "      <th>busiest_days</th>\n",
       "      <th>busiest_period_of_day</th>\n",
       "    </tr>\n",
       "  </thead>\n",
       "  <tbody>\n",
       "    <tr>\n",
       "      <th>0</th>\n",
       "      <td>1</td>\n",
       "      <td>Chocolate Sandwich Cookies</td>\n",
       "      <td>61</td>\n",
       "      <td>19</td>\n",
       "      <td>5.8</td>\n",
       "      <td>3139998</td>\n",
       "      <td>138</td>\n",
       "      <td>28</td>\n",
       "      <td>6</td>\n",
       "      <td>11</td>\n",
       "      <td>3.0</td>\n",
       "      <td>5</td>\n",
       "      <td>0</td>\n",
       "      <td>Regularly busy</td>\n",
       "      <td>Mid-range product</td>\n",
       "      <td>Regularly busy</td>\n",
       "      <td>Most orders</td>\n",
       "    </tr>\n",
       "    <tr>\n",
       "      <th>1</th>\n",
       "      <td>1</td>\n",
       "      <td>Chocolate Sandwich Cookies</td>\n",
       "      <td>61</td>\n",
       "      <td>19</td>\n",
       "      <td>5.8</td>\n",
       "      <td>1977647</td>\n",
       "      <td>138</td>\n",
       "      <td>30</td>\n",
       "      <td>6</td>\n",
       "      <td>17</td>\n",
       "      <td>20.0</td>\n",
       "      <td>1</td>\n",
       "      <td>1</td>\n",
       "      <td>Regularly busy</td>\n",
       "      <td>Mid-range product</td>\n",
       "      <td>Regularly busy</td>\n",
       "      <td>Average orders</td>\n",
       "    </tr>\n",
       "    <tr>\n",
       "      <th>2</th>\n",
       "      <td>1</td>\n",
       "      <td>Chocolate Sandwich Cookies</td>\n",
       "      <td>61</td>\n",
       "      <td>19</td>\n",
       "      <td>5.8</td>\n",
       "      <td>389851</td>\n",
       "      <td>709</td>\n",
       "      <td>2</td>\n",
       "      <td>0</td>\n",
       "      <td>21</td>\n",
       "      <td>6.0</td>\n",
       "      <td>20</td>\n",
       "      <td>0</td>\n",
       "      <td>Busiest day</td>\n",
       "      <td>Mid-range product</td>\n",
       "      <td>Busiest days</td>\n",
       "      <td>Average orders</td>\n",
       "    </tr>\n",
       "    <tr>\n",
       "      <th>3</th>\n",
       "      <td>1</td>\n",
       "      <td>Chocolate Sandwich Cookies</td>\n",
       "      <td>61</td>\n",
       "      <td>19</td>\n",
       "      <td>5.8</td>\n",
       "      <td>652770</td>\n",
       "      <td>764</td>\n",
       "      <td>1</td>\n",
       "      <td>3</td>\n",
       "      <td>13</td>\n",
       "      <td>NaN</td>\n",
       "      <td>10</td>\n",
       "      <td>0</td>\n",
       "      <td>Regularly busy</td>\n",
       "      <td>Mid-range product</td>\n",
       "      <td>Least busy</td>\n",
       "      <td>Most orders</td>\n",
       "    </tr>\n",
       "    <tr>\n",
       "      <th>4</th>\n",
       "      <td>1</td>\n",
       "      <td>Chocolate Sandwich Cookies</td>\n",
       "      <td>61</td>\n",
       "      <td>19</td>\n",
       "      <td>5.8</td>\n",
       "      <td>1813452</td>\n",
       "      <td>764</td>\n",
       "      <td>3</td>\n",
       "      <td>4</td>\n",
       "      <td>17</td>\n",
       "      <td>9.0</td>\n",
       "      <td>11</td>\n",
       "      <td>1</td>\n",
       "      <td>Least busy</td>\n",
       "      <td>Mid-range product</td>\n",
       "      <td>Least busy</td>\n",
       "      <td>Average orders</td>\n",
       "    </tr>\n",
       "  </tbody>\n",
       "</table>\n",
       "</div>"
      ],
      "text/plain": [
       "   product_id                product_name  aisle_id  department_id  prices  \\\n",
       "0           1  Chocolate Sandwich Cookies        61             19     5.8   \n",
       "1           1  Chocolate Sandwich Cookies        61             19     5.8   \n",
       "2           1  Chocolate Sandwich Cookies        61             19     5.8   \n",
       "3           1  Chocolate Sandwich Cookies        61             19     5.8   \n",
       "4           1  Chocolate Sandwich Cookies        61             19     5.8   \n",
       "\n",
       "   order_id  user_id  order_number  orders_day_of_week  order_hour_of_day  \\\n",
       "0   3139998      138            28                   6                 11   \n",
       "1   1977647      138            30                   6                 17   \n",
       "2    389851      709             2                   0                 21   \n",
       "3    652770      764             1                   3                 13   \n",
       "4   1813452      764             3                   4                 17   \n",
       "\n",
       "   days_since_prior_order  add_to_cart_order  reordered     busiest_day  \\\n",
       "0                     3.0                  5          0  Regularly busy   \n",
       "1                    20.0                  1          1  Regularly busy   \n",
       "2                     6.0                 20          0     Busiest day   \n",
       "3                     NaN                 10          0  Regularly busy   \n",
       "4                     9.0                 11          1      Least busy   \n",
       "\n",
       "     price_range_loc    busiest_days busiest_period_of_day  \n",
       "0  Mid-range product  Regularly busy           Most orders  \n",
       "1  Mid-range product  Regularly busy        Average orders  \n",
       "2  Mid-range product    Busiest days        Average orders  \n",
       "3  Mid-range product      Least busy           Most orders  \n",
       "4  Mid-range product      Least busy        Average orders  "
      ]
     },
     "execution_count": 220,
     "metadata": {},
     "output_type": "execute_result"
    }
   ],
   "source": [
    "# Create a new column within your ords_prods_merge dataframe and set it equal to result3\n",
    "ords_prods_merged['busiest_period_of_day'] = result3\n",
    "ords_prods_merged.head()"
   ]
  },
  {
   "cell_type": "markdown",
   "id": "52af4a9d",
   "metadata": {},
   "source": [
    "### Step 5"
   ]
  },
  {
   "cell_type": "code",
   "execution_count": 221,
   "id": "67613398",
   "metadata": {},
   "outputs": [
    {
     "data": {
      "text/plain": [
       "Most orders       21118071\n",
       "Average orders     9997651\n",
       "Fewest orders      1289137\n",
       "Name: busiest_period_of_day, dtype: int64"
      ]
     },
     "execution_count": 221,
     "metadata": {},
     "output_type": "execute_result"
    }
   ],
   "source": [
    "# Print the frequency for this new column.\n",
    "ords_prods_merged['busiest_period_of_day'].value_counts(dropna = False)"
   ]
  },
  {
   "cell_type": "markdown",
   "id": "d7518c53",
   "metadata": {},
   "source": [
    "### Step 7"
   ]
  },
  {
   "cell_type": "code",
   "execution_count": 223,
   "id": "12da4c48",
   "metadata": {},
   "outputs": [],
   "source": [
    "# Export your dataframe as a pickle file (since you added new columns) \n",
    "# and store it correctly in your “Prepared Data” folder.\n",
    "\n",
    "ords_prods_merged.to_pickle(os.path.join(path, '02 Data','Prepared Data', 'orders_products_4.7update.pkl'))"
   ]
  }
 ],
 "metadata": {
  "kernelspec": {
   "display_name": "Python 3 (ipykernel)",
   "language": "python",
   "name": "python3"
  },
  "language_info": {
   "codemirror_mode": {
    "name": "ipython",
    "version": 3
   },
   "file_extension": ".py",
   "mimetype": "text/x-python",
   "name": "python",
   "nbconvert_exporter": "python",
   "pygments_lexer": "ipython3",
   "version": "3.9.16"
  }
 },
 "nbformat": 4,
 "nbformat_minor": 5
}
